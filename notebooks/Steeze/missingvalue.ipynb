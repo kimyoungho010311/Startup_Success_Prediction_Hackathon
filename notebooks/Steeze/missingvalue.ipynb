{
 "cells": [
  {
   "cell_type": "code",
   "execution_count": null,
   "metadata": {
    "colab": {
     "base_uri": "https://localhost:8080/"
    },
    "id": "aSaoEwPizp2G",
    "outputId": "49da96e5-b39b-40ed-87bf-c43ec331a983"
   },
   "outputs": [
    {
     "name": "stdout",
     "output_type": "stream",
     "text": [
      "Drive already mounted at /content/drive; to attempt to forcibly remount, call drive.mount(\"/content/drive\", force_remount=True).\n"
     ]
    }
   ],
   "source": [
    "from google.colab import drive\n",
    "drive.mount('/content/drive')"
   ]
  },
  {
   "cell_type": "markdown",
   "metadata": {
    "id": "pcct-YvNys2D"
   },
   "source": [
    "## 결측치 처리 버전"
   ]
  },
  {
   "cell_type": "markdown",
   "metadata": {
    "id": "jQdClNFMyw2R"
   },
   "source": [
    "| 버전 | 결측치 처리 방식                       | 함수 이름                  |\n",
    "|------|----------------------------------------|----------------------------|\n",
    "| A    | 모든 결측치를 **0**으로 대체            | `filling_zero`             |\n",
    "| B    | 모든 결측치를 **평균값**으로 대체        | `filling_mean`             |\n",
    "| C    | 모든 결측치를 **중앙값**으로 대체        | `filling_median`           |\n",
    "| D    | 모든 결측치를 **-1**로 대체             | `filling_minus1`           |\n",
    "| E    | 모든 결측치를 **클러스터별 평균**으로 대체 | `filling_cluster_mean`     |\n",
    "| F    | 모든 결측치를 **KNN 기반 보간**으로 대체  | `filling_knn`              |\n",
    "| G    | 모든 결측치를 **최빈값**으로 대체        | `filling_mode`             |\n",
    "| H    | 모든 결측치를 **앞의 값으로 채움**        | `filling_forward`          |\n",
    "| I    | 모든 결측치를 **뒤의 값으로 채움**        | `filling_backward`         |\n",
    "| J    | 모든 결측치를 **선형 보간법**으로 대체     | `filling_interpolate`      |\n",
    "| K    | 모든 결측치를 **무작위 샘플로 대체**       | `filling_random_sample`    |\n",
    "| L    | 모든 결측치를 **고정값(-999)**으로 대체    | `filling_constant`         |"
   ]
  },
  {
   "cell_type": "markdown",
   "metadata": {
    "id": "elYVcx5NlChS"
   },
   "source": [
    "### 결측치 설명(사전 작업 필요 결측치)"
   ]
  },
  {
   "cell_type": "markdown",
   "metadata": {
    "id": "1ICm5QBPmOXp"
   },
   "source": [
    "**E: 클러스터별 평균**\n",
    "\n",
    "같은 클러스터(비슷한 기업 그룹) 안에서 평균을 계산해서 그 값으로 결측치를 채움\n",
    "\n",
    "KMeans 알고리즘으로 모든 기업을 5개 클러스터로 나눔\n",
    "\n",
    "컬럼에 결측치가 있으면 같은 클러스터에 속한 컬럼 평균을 구한 후 해당 결측치 채움\n",
    "\n",
    "  클러스터별로 나누려면 cluster 열이 먼저 있어야 함"
   ]
  },
  {
   "cell_type": "code",
   "execution_count": null,
   "metadata": {
    "id": "IETJyzqzotLp"
   },
   "outputs": [],
   "source": [
    "'''\n",
    "from sklearn.cluster import KMeans\n",
    "\n",
    "def assign_clusters(df, n_clusters=5):\n",
    "    df = df.copy()\n",
    "    cols = ['직원 수', '고객수(백만명)', '기업가치(백억원)']  # 수치형 중심\n",
    "    for col in cols:\n",
    "        df[col] = pd.to_numeric(df[col].astype(str).str.replace(',', ''), errors='coerce')\n",
    "    df_cluster_base = df[cols].fillna(df[cols].mean())\n",
    "    kmeans = KMeans(n_clusters=n_clusters, random_state=42)\n",
    "    df['cluster'] = kmeans.fit_predict(df_cluster_base)\n",
    "    return df\n",
    "'''"
   ]
  },
  {
   "cell_type": "markdown",
   "metadata": {
    "id": "UK8Xchc2pUxX"
   },
   "source": [
    "준비 코드\n",
    "\n",
    "df = assign_clusters(df)\n",
    "\n",
    "적용\n",
    "\n",
    "from missingvalue import filling_cluster_mean\n",
    "df = filling_cluster_mean(df)"
   ]
  },
  {
   "cell_type": "markdown",
   "metadata": {
    "id": "Z1-7jaqEmRi3"
   },
   "source": [
    "**F: KNN 기반 보간**\n",
    "\n",
    "수치형 변수들 간의 유사도를 이용해서 결측치를 채우는 방식\n",
    "\n",
    "결측치가 있는 행(기업)을 주변 데이터들과 비교함\n",
    "\n",
    "가장 유사한 기업 5개(n_neighbors=5)를 찾음\n",
    "\n",
    "그 기업들의 해당 컬럼 값을 평균 내서 결측치를 채움\n",
    "\n",
    "  KNNImputer는 데이터에 NaN이 너무 많거나 비어 있으면 작동안 함"
   ]
  },
  {
   "cell_type": "code",
   "execution_count": null,
   "metadata": {
    "id": "Dh8YbO2JpCPD"
   },
   "outputs": [],
   "source": [
    "'''\n",
    "def fill_for_knn(df):\n",
    "    df = df.copy()\n",
    "    for col in df.select_dtypes(include='number'):\n",
    "        if df[col].isnull().sum() == len(df):  # 전부 NaN이면\n",
    "            df[col] = 0  # 또는 다른 안전한 값으로 채움\n",
    "        elif df[col].isnull().sum() > 0:\n",
    "            df[col] = df[col].fillna(df[col].mean())  # 임시 평균 대체\n",
    "    return df\n",
    "'''"
   ]
  },
  {
   "cell_type": "markdown",
   "metadata": {
    "id": "6PNbn76Epn4i"
   },
   "source": [
    "준비 코드\n",
    "\n",
    "df = fill_for_knn(df)\n",
    "\n",
    "적용\n",
    "\n",
    "from missingvalue import filling_knn\n",
    "\n",
    "df = filling_knn(df)"
   ]
  },
  {
   "cell_type": "markdown",
   "metadata": {
    "id": "J0Ti2D_8mYku"
   },
   "source": [
    "**J: 선형 보간법**\n",
    "\n",
    "값이 비어 있는 구간을 앞뒤 값의 선을 그어 예측해서 채움\n",
    "\n",
    "숫자 값들이 시간이나 순서처럼 연속적이라고 가정\n",
    "\n",
    "결측치 앞뒤에 있는 숫자 2개를 연결하는 직선을 그려 그 직선 위의 값을 계산해서 결측치에 넣음\n",
    "\n",
    "ex) [10, NaN, NaN, 40] → [10, 20, 30, 40]\n",
    "\n",
    "선형 보간은 수치형 + 정렬된 순서에서만 잘 작동"
   ]
  },
  {
   "cell_type": "code",
   "execution_count": null,
   "metadata": {
    "id": "VTi8o-fhpIxX"
   },
   "outputs": [],
   "source": [
    "'''\n",
    "def prepare_for_interpolation(df):\n",
    "    df = df.copy()\n",
    "    for col in df.columns:\n",
    "        if df[col].dtype == 'object':\n",
    "            df[col] = pd.to_numeric(df[col].astype(str).str.replace(',', ''), errors='coerce')\n",
    "    df = df.sort_index()  # 순서 기반이면 정렬 필요\n",
    "    return df\n",
    "'''"
   ]
  },
  {
   "cell_type": "markdown",
   "metadata": {
    "id": "bLIoUUM3qOco"
   },
   "source": [
    "준비 코드\n",
    "\n",
    "df = prepare_for_interpolation(df)\n",
    "\n",
    "적용\n",
    "\n",
    "from missingvalue import filling_interpolate\n",
    "\n",
    "df = filling_interpolate(df)"
   ]
  },
  {
   "cell_type": "markdown",
   "metadata": {
    "id": "Fii2m7Gbql6W"
   },
   "source": [
    "## 결측치 처리"
   ]
  },
  {
   "cell_type": "code",
   "execution_count": 1,
   "metadata": {
    "id": "psAODjc001Kl"
   },
   "outputs": [],
   "source": [
    "\"\"\"\n",
    "각 함수는 입력된 DataFrame을 복사하여, 수치형 또는 범주형 컬럼의 결측치를 처리해 반환\n",
    "- apply_strategies_by_column(df, strategy_map) 함수를 통해 컬럼별 전략 매핑 지원\n",
    "\n",
    "- apply_strategies_by_column(df, column_strategy_map)\n",
    "  → 컬럼별로 다른 전략을 매핑하여 처리할 수 있는 메인 함수\n",
    "\n",
    "\"\"\"\n",
    "\n",
    "import pandas as pd\n",
    "import numpy as np\n",
    "from sklearn.impute import KNNImputer\n",
    "\n",
    "# === 개별 처리 전략 ===\n",
    "\n",
    "def filling_zero(df):\n",
    "    \"\"\"모든 결측치를 0으로 대체\"\"\"\n",
    "    df = df.copy()\n",
    "    return df.fillna(0)\n",
    "\n",
    "def filling_minus1(df):\n",
    "    \"\"\"모든 결측치를 -1로 대체\"\"\"\n",
    "    df = df.copy()\n",
    "    return df.fillna(-1)\n",
    "\n",
    "def filling_mean(df):\n",
    "    \"\"\"수치형 컬럼별 평균값으로 대체\"\"\"\n",
    "    df = df.copy()\n",
    "    for col in df.select_dtypes(include='number'):\n",
    "        df[col] = df[col].fillna(df[col].mean())\n",
    "    return df\n",
    "\n",
    "def filling_median(df):\n",
    "    \"\"\"수치형 컬럼별 중앙값으로 대체\"\"\"\n",
    "    df = df.copy()\n",
    "    for col in df.select_dtypes(include='number'):\n",
    "        df[col] = df[col].fillna(df[col].median())\n",
    "    return df\n",
    "\n",
    "def filling_cluster_mean(df):\n",
    "    \"\"\"\n",
    "    클러스터 그룹별 평균값으로 수치형 결측치를 대체\n",
    "     'cluster' 컬럼이 반드시 존재해야 하며,\n",
    "    각 클러스터 내에서 평균을 구해 해당 그룹 내 결측치를 채\n",
    "    \"\"\"\n",
    "    df = df.copy()\n",
    "    if 'cluster' not in df.columns:\n",
    "        raise ValueError(\"'cluster' column is required for filling_cluster_mean\")\n",
    "    for col in df.select_dtypes(include='number'):\n",
    "        if col == 'cluster':\n",
    "            continue\n",
    "        for cl in df['cluster'].unique():\n",
    "            mean_val = df[df['cluster'] == cl][col].mean()\n",
    "            df.loc[(df['cluster'] == cl) & (df[col].isnull()), col] = mean_val\n",
    "    return df\n",
    "\n",
    "def filling_knn(df, n_neighbors=5):\n",
    "    \"\"\"\n",
    "    수치형 컬럼에 대해 KNN 보간법으로 결측치를 대체\n",
    "    유사한 데이터를 기준으로 가장 가까운 n개의 데이터를 기반으로 예측\n",
    "    \"\"\"\n",
    "    df = df.copy()\n",
    "    numeric_cols = df.select_dtypes(include='number').columns\n",
    "    imputer = KNNImputer(n_neighbors=n_neighbors)\n",
    "    df[numeric_cols] = imputer.fit_transform(df[numeric_cols])\n",
    "    return df\n",
    "\n",
    "def filling_mode(df):\n",
    "    \"\"\"각 컬럼의 최빈값으로 결측치 대체\"\"\"\n",
    "    df = df.copy()\n",
    "    for col in df.columns:\n",
    "        if df[col].isnull().sum() > 0:\n",
    "            df[col] = df[col].fillna(df[col].mode()[0])\n",
    "    return df\n",
    "\n",
    "def filling_forward(df):\n",
    "    \"\"\"앞쪽 값으로 채움 (forward fill)\"\"\"\n",
    "    return df.ffill()\n",
    "\n",
    "def filling_backward(df):\n",
    "    \"\"\"뒤쪽 값으로 채움 (backward fill)\"\"\"\n",
    "    return df.bfill()\n",
    "\n",
    "def filling_interpolate(df):\n",
    "    \"\"\"\n",
    "    선형 보간 (interpolation)\n",
    "    앞뒤 숫자 값을 직선으로 연결해 그 사이의 결측치를 예측\n",
    "    \"\"\"\n",
    "    df = df.copy()\n",
    "    numeric_cols = df.select_dtypes(include='number').columns\n",
    "    df[numeric_cols] = df[numeric_cols].interpolate(method='linear', limit_direction='both')\n",
    "    return df\n",
    "\n",
    "def filling_random_sample(df):\n",
    "    \"\"\"각 컬럼 내 기존 값 중 무작위 샘플로 대체\"\"\"\n",
    "    df = df.copy()\n",
    "    for col in df.columns:\n",
    "        if df[col].isnull().sum() > 0:\n",
    "            non_null = df[col].dropna().values\n",
    "            sampled = np.random.choice(non_null, size=df[col].isnull().sum(), replace=True)\n",
    "            df.loc[df[col].isnull(), col] = sampled\n",
    "    return df\n",
    "\n",
    "def filling_constant(df, constant=-999):\n",
    "    \"\"\"모든 결측치를 고정값으로 대체 (기본값: -999)\"\"\"\n",
    "    df = df.copy()\n",
    "    return df.fillna(constant)\n",
    "\n",
    "# === 전략 코드 → 함수 매핑 딕셔너리 ===\n",
    "\n",
    "strategy_dict = {\n",
    "    'A': filling_zero,\n",
    "    'B': filling_mean,\n",
    "    'C': filling_median,\n",
    "    'D': filling_minus1,\n",
    "    'E': filling_cluster_mean,\n",
    "    'F': filling_knn,\n",
    "    'G': filling_mode,\n",
    "    'H': filling_forward,\n",
    "    'I': filling_backward,\n",
    "    'J': filling_interpolate,\n",
    "    'K': filling_random_sample,\n",
    "    'L': filling_constant,\n",
    "}\n",
    "\n",
    "def apply_strategies_by_column(df, column_strategy_map):\n",
    "    \"\"\"\n",
    "    컬럼별 전략 맵에 따라 결측치를 처리한 DataFrame을 반환\n",
    "    예시:\n",
    "        column_strategy_map = {\n",
    "            '고객수(백만명)': 'J',\n",
    "            '기업가치(백억원)': 'I',\n",
    "            '분야': 'G',\n",
    "            '직원 수': 'J'\n",
    "        }\n",
    "    \"\"\"\n",
    "    df_filled = df.copy()\n",
    "    for col, strat_code in column_strategy_map.items():\n",
    "        if col not in df_filled.columns:\n",
    "            print(f\"[경고] 컬럼 '{col}'은(는) 데이터프레임에 존재하지 않습니다. 건너뜁니다.\")\n",
    "            continue\n",
    "        strategy_fn = strategy_dict.get(strat_code)\n",
    "        if not strategy_fn:\n",
    "            print(f\"[경고] 전략 코드 '{strat_code}'는 존재하지 않습니다. 유효한 A~L 전략을 확인하세요.\")\n",
    "            continue\n",
    "        # cluster_mean은 cluster 컬럼 필요\n",
    "        if strat_code == 'E' and 'cluster' not in df_filled.columns:\n",
    "            print(\"[경고] cluster_mean 전략을 사용하려면 'cluster' 컬럼이 먼저 생성되어야 합니다. 해당 컬럼 없음 → 건너뜀.\")\n",
    "            continue\n",
    "        temp = strategy_fn(df_filled[[col, 'cluster']] if strat_code == 'E' else df_filled[[col]])\n",
    "        df_filled[col] = temp[col]\n",
    "    return df_filled"
   ]
  }
 ],
 "metadata": {
  "colab": {
   "provenance": []
  },
  "kernelspec": {
   "display_name": "Python 3 (ipykernel)",
   "language": "python",
   "name": "python3"
  },
  "language_info": {
   "codemirror_mode": {
    "name": "ipython",
    "version": 3
   },
   "file_extension": ".py",
   "mimetype": "text/x-python",
   "name": "python",
   "nbconvert_exporter": "python",
   "pygments_lexer": "ipython3",
   "version": "3.12.7"
  }
 },
 "nbformat": 4,
 "nbformat_minor": 4
}
