{
 "cells": [
  {
   "cell_type": "markdown",
   "id": "f36fa89f-dfbd-4bfb-9741-cc2030aac302",
   "metadata": {},
   "source": [
    "# 스타트업 성공 에측\n",
    "##### 과목명 : 인공지능\n",
    "##### 분반 : 02\n",
    "##### 길민준(2022211736)\n",
    "##### 제출일 : 2025-06-04"
   ]
  },
  {
   "cell_type": "markdown",
   "id": "c6fbec12-f0a2-4afa-abcc-327bd6fba818",
   "metadata": {},
   "source": [
    "# 1 요약\n",
    "## 1.1 연구 배경 및 목적\n",
    "스타트업은 혁신과 경제 성장의 핵심 동력이나, 실패 확률이 높아 투자 의사결정이 어려움 <br>\n",
    "투자자, 정책입안자 등 이해관계자들은 스타트업의 성공 가능성 예측에 대한 수요가 증가\n",
    "본 연구는 Crunchbase 데이터를 활용해 머신러닝 기반으로 스타트업의 성공(Operating), 실패(Closed), 인수(Acquired) 상태를 예측하는 모델을 개발하는 것이 목적임"
   ]
  },
  {
   "cell_type": "code",
   "execution_count": 47,
   "id": "2bd63a51-67a3-4758-a557-c3e5e37563a8",
   "metadata": {},
   "outputs": [],
   "source": [
    "# 투자자, 정책입안자 등 이해관계자들은 스타트업의 성공 가능성 예측에 대한 수요가 증가\n",
    "# 위 문장이 어색함\n",
    "\n",
    "# Crunchbase 데이터를 활용한 프로젝트는 성공(Acquired), 실패(Operating, Closed)\n",
    "# 이렇게 두가지로 나눠서 예측하는 거 아닌지?"
   ]
  },
  {
   "cell_type": "markdown",
   "id": "213c7264-9310-49ff-9040-8ba44080c561",
   "metadata": {},
   "source": [
    "## 1.2 데이터 및 연구 방법 요약\n",
    "Kaggle의 Crunchbase 스타트업 투자 데이터와 외교부 국가표준코드 데이터를 활용함<br>\n",
    "결츠깇 처리, 범주형 변수 인코딩, 주요 변수(산업군, 국가, 설립연도 등) 선택을 포함한 천처리 수행<br>\n",
    "의사결정나무(DecisiongTreeClassifier)를 사용하여, 세 가지 클래스(Operating, Closed, Acquired) 분류 모델을 구축하고 성능을 평가함"
   ]
  },
  {
   "cell_type": "code",
   "execution_count": 48,
   "id": "3177664f-6a7c-43c3-90ad-7c8eb1201d42",
   "metadata": {},
   "outputs": [],
   "source": [
    "# 마찬가지로 성공, 실패를 예측 하는 모델 아닌가?\n",
    "# 만약 제가 잘못이해한거면 수정하지 마시고 저한테 말씀해주세요\n",
    "# 추가적인 내용으로 샘플링한후 어떤 모델을 시도했는지도 필요함"
   ]
  },
  {
   "attachments": {},
   "cell_type": "markdown",
   "id": "c127ad09-f7ef-40aa-a74a-a1a934bf2000",
   "metadata": {},
   "source": [
    "## 1.3 연구 결과 요약\n",
    "개발한 모델은 테스트 데이터에서 약 86.7%의 정확도를 보임\n",
    "세 가지 클래스(Operating, Closed, Acquired)에 대한 예측 성능을 F1-score 등으로 평가<br>\n",
    "데이터 불균형 등 한계점이 있으나, 실무적으로 스타트업 투자 의사결정 지원에 활용 가능성을 확인함<br>\n",
    "하지만 초기 모델에서는 Operating 클래스에 비해 Closed 및 Acquired 클래스에 대한 예측 성능이 현저히 낮았음<br>\n",
    "이는 클래스 간 데이터 분포의 불균형에서 비롯된 문제로, 모델의 실용성 확보에 제약을 주는 요인이었음<br>\n",
    "이를 보완하기 위해 SMOTE(Synthetic Minority Oversampling Technique)를 도입하여 학습 데이터의 균형을 맞추고, 추가로 Random Forest 및 XGBoost 모델을 적용하여 예측 성능을 비교함<br>\n",
    "이 과정을 통해 단일 모델의 한계를 극복하고 클래스 간 예측력 균형을 확보하고자 함\n"
   ]
  },
  {
   "cell_type": "code",
   "execution_count": 49,
   "id": "a0dba4d4-e5d6-4a9e-bbf8-d0d8669d0d8f",
   "metadata": {},
   "outputs": [],
   "source": [
    "# 지금까지 내용중에서 전체적으로 내용의 통일성이 없음\n",
    "# 어디선 그냥 의사결정나무만 사용하고 어디서는 샘플링해서 추가적인 모델을 사용했다하고\n",
    "# 추가로 왜 F1-score를 사용했는지?\n",
    "# 86.7%의 정확도는 어떤 성능평가 지표를 사용한건지?\n",
    "# "
   ]
  },
  {
   "cell_type": "markdown",
   "id": "0f0f44a1-181a-47e8-b234-c1b7af0e9426",
   "metadata": {},
   "source": [
    "# 서론"
   ]
  },
  {
   "attachments": {},
   "cell_type": "markdown",
   "id": "60e421db-3514-4100-a52e-cf1856aa4db0",
   "metadata": {},
   "source": [
    "## 2.1 연구 목표 및 문제\n",
    "스타트업은 높은 성장 가능성과 함께 실패 확률도 높은 고위험 고수익 구조의 비즈니스임<br>\n",
    "투자자들은 막대한 자금을 소수의 스타트업에 집중 투자하므로, 사전에 성공 가능성을 예측하는 모델의 수요가 높음<br>\n",
    "본 프로젝트는 Crunchbase 스타트업 데이터를 활용하여 머신러닝 기반의 성공 상태 예측 모델을 구축하는 것이 목표임<br>\n",
    "목표 클래스는 Operating, Closed, Acquired의 세 가지이며, 이 중 어느 상태에 속할지 예측하는 다중 분류 문제로 정의됨"
   ]
  },
  {
   "attachments": {},
   "cell_type": "markdown",
   "id": "4ec7a6df-ed7a-418f-9de7-efc4a2f21e51",
   "metadata": {},
   "source": [
    "## 2.2 기존 연구 또는 유사 사례\n",
    "과거 스타트업 분석 연구들은 정성적 접근(창업자의 특성, 시장 분석 등)에 집중되어 있었음<br>\n",
    "최근 Kaggle 등에서 제공하는 공개 데이터를 바탕으로, 정량적 모델링 및 성능 비교 사례들이 일부 등장하고 있음<br>\n",
    "그러나 대부분 생존/사망 이진 분류(binary classification)에 초점을 두었으며, 인수(acquired)를 독립적으로 고려한 사례는 드뭄<br>\n"
   ]
  },
  {
   "attachments": {},
   "cell_type": "markdown",
   "id": "d6d06a4a-d3b6-4c52-ae2b-93a6f31e1799",
   "metadata": {},
   "source": [
    "## 2.3 본 연구 또는 접근방법의 차별성, 독창성\n",
    "단순한 생존/사망 예측이 아니라, Operating, Acquired, Closed 세 가지 클래스를 구분하는 다중 분류 모델을 설계함<br>\n",
    "산업군, 본사 위치, 투자자 수 등 다양한 범주형 변수를 전처리하여 구조적인 피처 엔지니어링을 수행함<br>\n",
    "과적합 방지를 위해 학습/검증 데이터를 명확히 분리하고, 정확도 외에도 f1-score 등 다각적 지표로 평가함<br>\n",
    "실제 데이터에 기반한 문제 정의 및 설명을 통해, 이론이 아닌 실제 응용 가능성에 중점을 둠<br>"
   ]
  },
  {
   "cell_type": "code",
   "execution_count": 50,
   "id": "a35fa33e-ff24-4d7f-baaf-80e31bf63c5c",
   "metadata": {},
   "outputs": [],
   "source": [
    "# 샘플링 내용은 어디감?"
   ]
  },
  {
   "cell_type": "markdown",
   "id": "452d2f87-21a8-4d99-854b-61321c336b13",
   "metadata": {},
   "source": [
    "# 3. 연구 방법"
   ]
  },
  {
   "attachments": {},
   "cell_type": "markdown",
   "id": "35570ad9-4492-461a-b99b-1fd7792738a8",
   "metadata": {},
   "source": [
    "## 3.1 데이터 소개 및 수집 방법\n",
    "본 연구에서는 Crunchbase 기반의 스타트업 투자 데이터를 사용함<br>\n",
    "해당 데이터는 Kaggle 공개 데이터셋에서 제공된 investments_VC.csv를 바탕으로 구성됨<br>\n",
    "이 데이터는 초기 단계 스타트업부터 포춘 1000대 기업까지 다양한 기업 정보를 제공하는 선도 플랫폼인 Crunchbase에서 수집된 것.<br>\n",
    "국가 및 대륙 정보는 공공데이터포털에서 제공된 외교부 국가표준코드(외교부_국가표준코드_20250102.csv)를 활용해 보완함<br>\n",
    "참고 코드: Predicting Startup Success by pball01<br>\n",
    "Crunchbase 스타트업 데이터의 주요 특징은 다음과 같음<br>\n",
    "- 총 39개의 변수(열)로 구성됨\n",
    "- 49,438개 행에 유효한 값이 존재(전체는 54,294행)\n",
    "- 각 행은 단일 기업의 단일 투자 이력을 의미함\n",
    "- 종속 변수(status)는 Operating, Acquired, Closed 세 가지 중 하나로 분류됨\n",
    "총 39개의 변수로 구성되어 있으며, 주요 변수는 아래 표와 같음<br>\n",
    "전체 변수 목록은 부록에 포함함<br>\n"
   ]
  },
  {
   "cell_type": "markdown",
   "id": "e4c83aa9-a104-4a78-8ff7-bc0b0bd0df38",
   "metadata": {},
   "source": [
    "| 변수명               | 변수 설명       | 자료 설명                                                                 |\n",
    "|---------------------|----------------|--------------------------------------------------------------------------|\n",
    "| `permalink`         | 회사 고유 링크  | 고유 식별자 역할을 하는 회사 URL                                         |\n",
    "| `name`              | 회사명          | 스타트업의 이름                                                           |\n",
    "| `category_list`     | 산업군 목록     | software, biotech 등 복수 산업군 포함                                     |\n",
    "| `market`            | 주요 시장분류   | 해당 기업의 핵심 시장                                                    |\n",
    "| `funding_total_usd` | 총 투자금액     | 누적 투자 유치 금액 (USD 기준)                                           |\n",
    "| `funding_rounds`    | 펀딩 횟수       | 기업이 받은 총 투자 라운드 수                                            |\n",
    "| `country_code`      | 국가 코드       | ISO 3166-1 alpha-3 형식                                                   |\n",
    "| `state_code`        | 미국 주 코드    | 미국 내 기업의 지역 정보                                                 |\n",
    "| `status`            | 기업 상태       | Operating / Acquired / Closed (분류 대상 변수)                           |"
   ]
  },
  {
   "cell_type": "code",
   "execution_count": 51,
   "id": "8a4f9874-71fb-4534-8401-16533fc843f3",
   "metadata": {},
   "outputs": [],
   "source": [
    "# 위 주요 변수는 어떤 방법으로 선정한건지?\n",
    "# 만약 랜덤포레스트로 Feature importance를 확인한거면 간략하게 (랜덤포레스트로 확인) 이런식으로 표시하기"
   ]
  },
  {
   "attachments": {},
   "cell_type": "markdown",
   "id": "23ce9ebd-6578-408b-92cc-fceb2060d986",
   "metadata": {},
   "source": [
    "## 3.2 분석 방법 및 절차\n",
    "분석 목적은 스타트업의 기업 속성 데이터를 기반으로 status(Operating, Acquired, Closed)를 예측하는 분류 모델을 구축하는 것임<br>\n",
    "전체 분석 과정은 데이터 전처리 → 특성(변수) 정제 → 모델 학습 → 성능 평가 순으로 구성됨<br>\n",
    "분석 과정에서 scikit-learn 기반의 주요 ML 기법과 전처리 도구가 사용됨<br>\n",
    "분석 절차는 아래와 같음<br>\n"
   ]
  },
  {
   "attachments": {},
   "cell_type": "markdown",
   "id": "390d29d0-c6d8-40bc-bdaa-f7bb4ace21ff",
   "metadata": {},
   "source": [
    "### 3.2.1 데이터 전처리\n",
    "status, category_list, country_code, funding_total_usd 등 주요 변수 기준으로 결측치 제거<br>\n",
    "분석에 필요 없는 ID성 변수(homepage_url, permalink, region, city, homepage_url 등)는 제거<br>\n",
    "문자열로 되어 있는 금액(funding_total_usd)은 숫자형으로 변환<br>"
   ]
  },
  {
   "cell_type": "code",
   "execution_count": 52,
   "id": "c2f86e00-3352-4f50-9491-0df5b8b02dcc",
   "metadata": {},
   "outputs": [],
   "source": [
    "# 마찬가지로 어느 기준으로 분석에 필요없는 ID성 변수를 제거했는지?\n",
    "# 그냥 간단한 이유라도 괜찮음"
   ]
  },
  {
   "attachments": {},
   "cell_type": "markdown",
   "id": "e20c86e1-12f7-4342-afda-4d60214435f0",
   "metadata": {},
   "source": [
    "### 3.2.2 범주형 변수 인코딩\n",
    "country_code, state_code, category_list, market, funding_round_type 등은LabelEncoder를 통해 숫자형으로 변환<br>\n",
    "status는 타겟 변수로 사용되며, 다음과 같이 라벨 인코딩:<br>\n",
    "- Closed → 0 <br>\n",
    "- Operating → 1<br>\n",
    "- Acquired → 2<br>"
   ]
  },
  {
   "cell_type": "code",
   "execution_count": 53,
   "id": "289e3c27-6f91-4e38-9951-d00ad4af1e0c",
   "metadata": {},
   "outputs": [],
   "source": [
    "# 타겟 변수를 0, 1, 2 이렇게 인코딩하면\n",
    "# 모델이 순서가 있다고 판단하여 우선순위를 부여한다고 알고있는데\n",
    "# 확실한건 아님 추가적으로 확인 해주세요"
   ]
  },
  {
   "attachments": {},
   "cell_type": "markdown",
   "id": "4da805d7-5d67-4bc1-bb15-f6f57f1a624e",
   "metadata": {},
   "source": [
    "### 3.2.3 수치형 변수 정규화\n",
    "funding_total_usd는 단위 크기 편차가 커서 StandardScaler를 적용하여 정규화 진행<br>"
   ]
  },
  {
   "cell_type": "code",
   "execution_count": 54,
   "id": "fd41ce2b-8da5-4711-a648-1fed29d7fa1a",
   "metadata": {},
   "outputs": [],
   "source": [
    "# StandardSclaer는 정규화 당하는 변수가 정규분포의 형태를 띄운다는 전제\n",
    "# 하에 실시한다고 알고있는데 추가적으로 확인해주세요"
   ]
  },
  {
   "attachments": {},
   "cell_type": "markdown",
   "id": "3776ea28-65c7-4dd1-ad73-e6341593bc2e",
   "metadata": {},
   "source": [
    "### 3.2.4 데이터 분할\n",
    "전체 데이터를 train_test_split을 사용하여 학습용(70%)과 테스트용(30%)으로 분할<br>\n",
    "Stratify 옵션은 사용하지 않음 (클래스 불균형 존재함에도 단순 무작위 분할 적용)<br>"
   ]
  },
  {
   "cell_type": "code",
   "execution_count": 55,
   "id": "aaaa7de3-66f0-492b-8ed4-40d9d39faa65",
   "metadata": {},
   "outputs": [],
   "source": [
    "# 왜 Stratify는 사용 안함?"
   ]
  },
  {
   "cell_type": "markdown",
   "id": "b1094db8-2712-4411-b939-f1c2e56e4272",
   "metadata": {},
   "source": [
    "### 분석 흐름 요약 표\n",
    "| 단계         | 처리 내용                                | 비고                         |\n",
    "|--------------|------------------------------------------|------------------------------|\n",
    "| 전처리       | 결측치 제거, 불필요 변수 제거            | 주요 변수 기준 필터링        |\n",
    "| 인코딩       | 범주형 변수 숫자화                       | `LabelEncoder` 사용          |\n",
    "| 정규화       | 투자금 등 수치형 변수 스케일링           | `StandardScaler` 사용        |\n",
    "| 데이터 분할  | Train:Test = 7:3 비율로 분할             | `Stratify` 적용 안함         |"
   ]
  },
  {
   "cell_type": "markdown",
   "id": "3546fc56-96fe-4f7b-962d-47c884e85be4",
   "metadata": {},
   "source": [
    "## 3.3 사용한 AI 모델 및 훈련 과정\n",
    "본 연구에서는 다중 클래스 분류 문제로 정의된 status 예측을 위해 결정 트리 기반 분류 모델을 사용함<br>\n",
    "모델 선택 시 해석 가능성, 구현 간편성, 과적합 조절 가능성 등을 고려하였으며, scikit-learn의 DecisionTreeClassifier를 채택함<br>\n",
    "학습된 모델은 Operating, Closed, Acquired 세 클래스 중 하나로 기업 상태를 예측함<br>\n",
    "모델 개요<br>"
   ]
  },
  {
   "cell_type": "markdown",
   "id": "bcb527e3-ebfb-4f61-960a-e5ae642f9cff",
   "metadata": {},
   "source": [
    "| 항목        | 내용                                                                 |\n",
    "|-------------|----------------------------------------------------------------------|\n",
    "| 모델명      | Decision Tree Classifier                                             |\n",
    "| 라이브러리  | scikit-learn의 `DecisionTreeClassifier`                              |\n",
    "| 분류 방식   | 다중 클래스 분류 (Multiclass Classification)                         |\n",
    "| 타겟 변수   | `status` (0: Closed, 1: Operating, 2: Acquired)                       |\n",
    "| 예측 목적   | 각 기업의 최종 상태 예측                                             |"
   ]
  },
  {
   "cell_type": "code",
   "execution_count": 56,
   "id": "2b07417c-45cc-4a41-9107-204ed84bb629",
   "metadata": {},
   "outputs": [],
   "source": [
    "# 하이퍼파라미터 설정값은 전부 다 부록으로 빼야함\n",
    "# "
   ]
  },
  {
   "attachments": {},
   "cell_type": "markdown",
   "id": "3cfab889-cdd0-4925-b326-cf72deb1ef2d",
   "metadata": {},
   "source": [
    "### 훈련 과정\n",
    "1. 학습용 데이터(X_train, Y_train)를 기반으로 모델 훈련\n",
    "2. 테스트 데이터(X_test)에 대해 예측 수행\n",
    "3. 모델 성능은 정확도(accuracy) 외에도 precision, recall, f1-score 등의 지표를 활용하여 다면적 평가\n",
    "4. 훈련 데이터와 테스트 데이터 간 정확도 차이를 통해 과적합 여부 검토<br>\n"
   ]
  },
  {
   "cell_type": "code",
   "execution_count": 57,
   "id": "bd779ec3-8188-4e2c-a59b-24f56c424a8d",
   "metadata": {},
   "outputs": [],
   "source": [
    "# 이 사이에 Operating 예측 성공비율과 나머지 예측 실패한 비율을 보여주고\n",
    "# 불균형 문제가 일어남을 시각화 해야함"
   ]
  },
  {
   "cell_type": "markdown",
   "id": "f5f71382-3d31-45d8-92f3-05649091546d",
   "metadata": {},
   "source": [
    "DecisionTreeClassifier 기반 초기 모델은 단순하고 해석이 쉬운 장점이 있지만, 클래스 불균형 문제로 인해 소수 클래스 예측력이 미흡했음<br>\n",
    "이 문제를 해결하기 위해 SMOTE를 도입하여 Closed 및 Acquired 클래스 데이터를 증강<br>\n",
    "SMOTE는 기존 소수 클래스 인스턴스를 KNN 방식으로 결합하여 새로운 샘플을 생성함으로써 단순 복제보다 더 나은 일반화 성능을 기대할 수 있음<br>\n",
    "SMOTE 적용 후, 성능 안정성 확보를 위해 Random Forest(다수의 트리 앙상블 기반)와 XGBoost(gradient boosting 기반 고성능 모델)를 학습함<br>\n",
    "두 모델 모두 클래스 간 균형 예측 성능 향상을 목적으로 사용되었으며, 같은 훈련/검증 방식으로 성능 비교가 가능함<br>\n",
    "학습 및 평가 과정은 기존과 동일한 데이터 분할(70:30) 방식으로 수행함<br>\n",
    "XGBoost 학습 전, 문자열 기반 범주형 변수는 수치형으로 직접 변환하여 오류를 방지함<br>\n"
   ]
  },
  {
   "attachments": {},
   "cell_type": "markdown",
   "id": "247f9f2e-7a50-434a-b98a-af913f2f4ccd",
   "metadata": {},
   "source": [
    "| 단계             | 내용                                              | 비고                             |\n",
    "|------------------|---------------------------------------------------|----------------------------------|\n",
    "| 모델 선택        | Decision Tree 기반 분류 모델 선정                | `scikit-learn` 사용              |\n",
    "| 하이퍼파라미터   | `entropy`, `max_depth=5` 등 설정                  | 과적합 방지 목적                 |\n",
    "| 모델 학습        | `X_train`, `Y_train`으로 훈련                     | 학습 비율 70%                    |\n",
    "| 예측 수행        | `X_test`에 대한 상태 분류 예측 수행              | 테스트 비율 30%                  |\n",
    "| 성능 평가        | accuracy, f1-score, precision, recall 등 종합 사용 | 다중 클래스 평가                 |"
   ]
  },
  {
   "cell_type": "code",
   "execution_count": 58,
   "id": "caa606bf-965a-4d6a-9e52-947d7bac3fbd",
   "metadata": {},
   "outputs": [],
   "source": [
    "# 위 표는 두 블럭 위에 훈련과정과 동일한 내용인데\n",
    "# 왜 위 블럭의 내용은 글로 적고\n",
    "# 이 블록은 표로 만들었는지?\n",
    "# 통일해야 한다고 생각"
   ]
  },
  {
   "cell_type": "markdown",
   "id": "39c5720b-0bfb-4dba-8f06-d18cfa949922",
   "metadata": {},
   "source": [
    "# 4. 실험 및 결과"
   ]
  },
  {
   "attachments": {},
   "cell_type": "markdown",
   "id": "6305e693-558b-4519-9e08-f8f7522f41e5",
   "metadata": {},
   "source": [
    "## 4.1 실험 과정 소개\n",
    "전처리 및 피처 엔지니어링을 마친 후, 전체 데이터를 학습용(70%)과 테스트용(30%)으로 무작위 분할함<br>\n",
    "분류 모델로는 DecisionTreeClassifier를 사용하였고, 주요 하이퍼파라미터는 max_depth=5, criterion='entropy'로 설정함<br>\n",
    "모델 학습은 X_train, Y_train을 기준으로 진행하였으며, 이후 X_test에 대해 상태 예측(status)을 수행함<br>\n",
    "예측 결과는 accuracy_score를 기준으로 정확도 측정 후, classification_report를 활용하여 다각적 성능 평가 진행함<br>\n",
    "Operating, Closed, Acquired 세 클래스를 기준으로 클래스별 정밀도(precision), 재현율(recall), F1-score를 확인함<br>\n",
    "SMOTE를 적용하여 Closed 및 Acquired 클래스 샘플 수를 균형적으로 증가시킴<br>\n",
    "증강된 학습 데이터를 기반으로 Random Forest와 XGBoost 모델을 각각 학습시킴<br>\n",
    "Random Forest는 기본 설정(n_estimators=100)으로 구성하고 학습 진행<br>\n",
    "XGBoost는 objective='multi:softmax', eval_metric='mlogloss' 설정을 기반으로 다중 클래스 분류에 최적화함<br>\n",
    "테스트셋은 기존과 동일하게 유지하여 각 모델 성능을 일관되게 비교함<br>\n"
   ]
  },
  {
   "cell_type": "code",
   "execution_count": 59,
   "id": "d26f50f8-4061-4c45-8b37-c2a11bbdfb72",
   "metadata": {},
   "outputs": [],
   "source": [
    "# 3.3 사용한 AI 모델 및 훈련 과정이랑 다른 내용이 뭔지?\n",
    "# 중복된 내용이 계속 나오는거 같음\n",
    "# 아래 4.1 실험 과정 소개 블록을 참고해서 3.3 바꿔보세요"
   ]
  },
  {
   "cell_type": "markdown",
   "id": "146fb07b-e55d-4698-b1a5-3b2bde170be2",
   "metadata": {},
   "source": [
    "## 4,1 실험 과성 소개 (예시)\n",
    "전처리 및 피처 엔지니어링을 마친 후, 전체 데이터를 학습용(70%)과 테스트용(30%)으로 무작위 분할하였다.<br>\n",
    "초기 분류 모델로는 Decision Tree를 활용하여 기업의 상태(status)를 예측하였다.<br>\n",
    "예측 결과는 정확도(accuracy)를 기준으로 1차 평가하고, classification_report를 통해 정밀도(precision), 재현율(recall), F1-score 등 다중 클래스 성능을 상세히 분석하였다.<br>\n",
    "분류 대상 클래스는 Operating, Closed, Acquired의 세 가지이며, 클래스 불균형 문제 해소를 위해 SMOTE 기법을 적용하였다.<br>\n",
    "<br>\n",
    "데이터 증강 이후, Random Forest와 XGBoost 모델을 추가로 학습하였다.<br>\n",
    "각 모델은 다중 클래스 분류에 적합하게 구성하였으며, 테스트셋은 동일하게 유지하여 모델 간 성능을 공정하게 비교하였다.<br>\n",
    "\n",
    "모델 학습에 사용한 파라미터는 모두 부록에 있음"
   ]
  },
  {
   "cell_type": "code",
   "execution_count": 60,
   "id": "b033cbcd-de63-47e2-a780-dca7daa0000c",
   "metadata": {},
   "outputs": [],
   "source": [
    "# 저는 굳이 하이퍼 파라미터를 본문에 넣거나\n",
    "# x_train, y_train.. 등등 당연하고 의미없는 단어들은 삭제해야 생각합니다다"
   ]
  },
  {
   "cell_type": "markdown",
   "id": "999aa151-0e3a-469f-bed8-a97c411b64de",
   "metadata": {},
   "source": [
    "## 4.2 성능 비교\n",
    "테스트 데이터에 대한 최종 모델 성능은 다음과 같음\n",
    "| 클래스     | 정밀도 (Precision) | 재현율 (Recall) | F1-score | 지원 (Support) |\n",
    "|------------|---------------------|------------------|----------|----------------|\n",
    "| Closed     | 0.00                | 0.00             | 0.00     | 411            |\n",
    "| Operating  | 0.87                | 1.00             | 0.93     | 7,013          |\n",
    "| Acquired   | 0.00                | 0.00             | 0.00     | 666            |\n",
    "| **전체 정확도** | -                   | -                | **0.867** | 8,090          |"
   ]
  },
  {
   "attachments": {},
   "cell_type": "markdown",
   "id": "e2a09574-f3ed-4d43-a7ca-99648e436003",
   "metadata": {},
   "source": [
    "Operating 클래스에 대해서는 높은 재현율(1.00)과 F1 점수(0.93)를 기록함<br>\n",
    "Closed, Acquired 클래스에 대해서는 모델이 예측을 거의 수행하지 못함(정밀도와 재현율 모두 0)<br>\n",
    "전체 정확도는 약 86.7%로 측정되었으며, 이는 다중 클래스 중 하나에 치우친 모델 결과임<br>\n",
    "학습 데이터 정확도는 약 86.3%로, 테스트와 큰 차이가 없어 과적합은 크지 않음<br>\n",
    "Random Forest의 전체 정확도는 0.623으로 측정됨<br>\n",
    "XGBoost의 전체 정확도는 0.669로, 모든 클래스에서 균형 잡힌 성능을 보임<br>\n",
    "DecisionTree에 비해 Closed와 Acquired 클래스의 F1-score가 각각 향상됨 (0.00 → 0.14, 0.00 → 0.25)<br>\n",
    "Operating 클래스에 대해서도 F1-score 0.93 → 0.80으로 일부 감소했으나, 전체적으로 성능 균형이 개선됨<br>\n",
    "Macro F1-score 기준 성능이 0.31(DecisionTree) → 0.40(XGBoost)로 향상되어 다중 클래스 모델로서 신뢰도 상승<br>"
   ]
  },
  {
   "cell_type": "code",
   "execution_count": 61,
   "id": "36219a10-b394-4ad2-abce-2f481c8a82d3",
   "metadata": {},
   "outputs": [],
   "source": [
    "# 결정트리분류기 표는 있는데 나머지 RandomForest, XGBoost 성능 표는?\n",
    "# 그리고 결정트리 분류기, RandomForest,XGBoost 표를 모두 합쳐야함\n",
    "# 그렇게 표 한개를 만들고 간단하게 내용 적기"
   ]
  },
  {
   "attachments": {},
   "cell_type": "markdown",
   "id": "db102f18-849e-4b73-804a-fc1845189343",
   "metadata": {},
   "source": [
    "# 5. 결론\n",
    "## 5.1 실험 결과 분석 및 평가\n",
    "초기 Decision Tree 모델은 전체 정확도는 높았지만 대부분 Operating 클래스만 예측했습니다.<br>\n",
    "Closed와 Acquired 클래스는 거의 예측되지 않아 클래스 불균형 문제가 드러났습니다.<br>\n",
    "이를 해결하기 위해 SMOTE로 소수 클래스 데이터를 증강했습니다.<br>\n",
    "이후 Random Forest와 XGBoost 모델을 적용하여 성능을 비교했습니.<br>\n",
    "XGBoost 모델은 F1-score와 예측 균형 면에서 가장 나은 성과를 보였습니다.<br>\n",
    "모델 다양화를 통해 단일 모델의 한계를 보완하고 예측의 안정성을 높일 수 있었습니다.<br>"
   ]
  },
  {
   "cell_type": "code",
   "execution_count": 62,
   "id": "d8601308-21b3-4fd4-bc7b-b86a6263dafa",
   "metadata": {},
   "outputs": [],
   "source": [
    "# 아래 내용을 위에 내용으로 줄였음\n",
    "# 86.6%, 0, 0.31.. 등등 굳이 꼭 수치가 필요한가?\n",
    "# 이미 앞에서 말한 내용 아닌가?\n"
   ]
  },
  {
   "attachments": {},
   "cell_type": "markdown",
   "id": "ef7c151b-f468-446a-ade4-31ee06ac5b9f",
   "metadata": {},
   "source": [
    "5.1 실험 결과 분석 및 평가<br>\n",
    "테스트 데이터 기준 전체 정확도는 약 86.7%로 측정됨<br>\n",
    "Operating 클래스에서 재현율이 1.00으로, 대부분을 성공적으로 예측함<br>\n",
    "반면 Closed, Acquired 클래스는 정밀도와 재현율이 모두 0으로 사실상 예측이 되지 않음<br>\n",
    "이는 훈련 데이터에서 Operating 클래스가 절대적으로 많았기 때문이며, 클래스 불균형(class imbalance) 문제가 주요 원인임<br>\n",
    "학습 데이터 정확도(약 86.3%)와의 편차가 작아 과적합은 심하지 않음<br>\n",
    "초기 DecisionTree 모델은 높은 정확도(약 86.7%)를 보였으나, 대부분 Operating 클래스에 집중된 예측 결과였음<br>\n",
    "Closed와 Acquired 클래스에 대해서는 정밀도와 재현율이 0으로, 실질적인 예측 실패를 의미함\n",
    "이에 따라, SMOTE를 적용하여 소수 클래스에 대한 학습 데이터를 인공적으로 증강함<br>\n",
    "SMOTE 적용 후 Random Forest와 XGBoost 모델을 학습한 결과, 전체 정확도는 소폭 감소했으나 F1-score 기준으로는 Acquired 클래스가 0.25까지 향상됨<br>\n",
    "특히 XGBoost 모델은 macro 평균 F1-score가 0.31 → 0.40으로 상승하며, 모델의 클래스 예측 균형을 개선한 것으로 평가됨<br>\n",
    "다양한 모델을 비교함으로써, 단일 모델의 한계를 보완하고 예측 안정성을 높임<br>\n"
   ]
  },
  {
   "attachments": {},
   "cell_type": "markdown",
   "id": "d4da01d4-6ed6-4a54-9225-aee83228a68e",
   "metadata": {},
   "source": [
    "## 5.2 주요 연구 결과 요약\n",
    "Crunchbase 데이터를 기반으로, 기업 상태(status)를 예측하는 분류 모델을 구축함<br>\n",
    "전처리, 라벨 인코딩, 정규화, 트레인-테스트 분할을 통해 분석 파이프라인을 구성함<br>\n",
    "DecisionTreeClassifier를 활용하여 비교적 해석 가능한 모델을 구성하고, 학습 및 예측 수행\n",
    "Operating 클래스 중심으로 높은 정확도를 보였으나, 타 클래스는 예측에 실패함<br>\n",
    "전체적으로 클래스 불균형 문제를 반영한 성능 평가의 중요성을 확인함<br>\n",
    "클래스 불균형 문제를 해결하기 위해 SMOTE를 활용한 오버샘플링을 적용함<br>\n",
    "기존 DecisionTree 외에도 Random Forest, XGBoost를 학습시켜 성능을 비교함<br>\n",
    "XGBoost는 모든 클래스에서 균형 잡힌 성능을 보이며, Macro F1-score 기준으로 가장 우수한 결과를 보임<br>\n",
    "다양한 분류 모델을 통해 문제 해결 방향성과 실용 가능성을 동시에 확보함<br>"
   ]
  },
  {
   "cell_type": "code",
   "execution_count": 63,
   "id": "bad4a397-a2de-49ae-bff5-cd1928c337d2",
   "metadata": {},
   "outputs": [],
   "source": [
    "# 마찬가지로 계속 반복되는 내용이 나오는거같은데\n",
    "# 사실 결과를 요약하는거라서 어쩔수없는거같기도함"
   ]
  },
  {
   "attachments": {},
   "cell_type": "markdown",
   "id": "e34a76dd-0ef9-437c-a996-89e604e66b37",
   "metadata": {},
   "source": [
    "## 5.3 연구의 강점과 한계점\n",
    "### 강점\n",
    "공개된 스타트업 데이터셋을 기반으로 실용적 예측 문제를 정식화함<br>\n",
    "모델 해석이 용이한 결정 트리 기반 접근을 통해 학습 결과 분석이 가능함<br>\n",
    "과적합 문제를 최소화하며 기본적인 분류 모델의 성능을 검증함<br>\n",
    "단일 모델이 아닌 여러 모델(Random Forest, XGBoost) 비교를 통해 예측 결과 신뢰도를 향상함<br>\n",
    "SMOTE를 적용하여 데이터 불균형 문제에 대한 구조적 해결을 시도함<br>\n",
    "특히 단순 복제가 아닌 새로운 데이터 생성을 통한 학습 다양성 확보로, 소수 클래스 학습 효과를 향상시킴<br>\n",
    "XGBoost 모델은 Closed 및 Acquired 클래스에 대해 개선된 성능을 보이며, macro F1-score 기준으로 가장 우수한 성능을 기록함<br>"
   ]
  },
  {
   "attachments": {},
   "cell_type": "markdown",
   "id": "4ad9ffc7-3783-43eb-940b-c36f7c71f770",
   "metadata": {},
   "source": [
    "### 한계점\n",
    "클래스 불균형이 모델 학습에 직접적 영향을 미쳤으며, Closed 및 Acquired 클래스에 대한 성능이 매우 낮음<br>\n",
    "단일 모델만 적용하였으며, 다양한 모델 비교나 앙상블 학습 등은 적용되지 않음<br>\n",
    "변수 간 상호작용이나 중요도 분석이 포함되지 않아 인사이트 도출에 한계가 있음<br>\n",
    "SMOTE 적용 이후에도 Closed 클래스 예측 성능은 여전히 제한적임<br>\n",
    "클래스 예측 개선은 이루어졌으나, 변수별 중요도 해석은 미흡함<br>\n",
    "실제 서비스화 관점에서 추가적 인사이트 및 설명력 확보가 필요함<br>"
   ]
  },
  {
   "cell_type": "code",
   "execution_count": 64,
   "id": "ecf87267-11bf-4a7e-9e25-bf898885c2e4",
   "metadata": {},
   "outputs": [],
   "source": [
    "# 강점에서는 클래스 불균형을 해결했다면서\n",
    "# 한계점에서는 클래스 불균형이 모델에 직접정 영향을 미쳤다?\n",
    "# STMOE 적용 후에도 Closed 클래스 예측 성능은 제한적이다? <- 이 내용은 처음봄\n",
    "# 위에서 언급이 없었던거같은데\n",
    "# 제한적이다. 라고 끝내지말고 해결 방법도 제시해보기"
   ]
  },
  {
   "attachments": {},
   "cell_type": "markdown",
   "id": "899269ca-e2e7-44e0-8edb-9026be9b5b28",
   "metadata": {},
   "source": [
    "## 5.4 향후 연구 방향 및 기대 효과\n",
    "Closed 및 Acquired 클래스를 별도로 분류하거나, 다단계 분류 전략 적용 가능성 검토<br>\n",
    "SHAP 등 변수 중요도 시각화를 통한 정책적 인사이트 제공 모델로 확장 가능<br>\n",
    "추후 성공/실패 이진 분류나 생존 분석 등 다른 형태의 예측 과제로 전환도 고려할 수 있음<br>\n",
    "향후 클래스 불균형 문제를 보다 정교하게 다루기 위해 SMOTE 외에 Borderline-SMOTE, ADASYN 등 다양한 오버샘플링 기법의 적용을 고려<br>\n",
    "소수 클래스 전용 모델 학습 또는 계층적 분류(hierarchical classification) 구조 도입 가능성 검토<br>\n",
    "기존 비교 모델 외에도 CatBoost, LightGBM 등 다양한 Gradient Boosting 기반 모델 성능을 추가 검토할 예정<br>"
   ]
  },
  {
   "cell_type": "code",
   "execution_count": 65,
   "id": "828c37be-f76f-431a-b864-b82d0d08c3a6",
   "metadata": {},
   "outputs": [],
   "source": [
    "# 뒤에 부록 부분은 검토 안하겠습니다.\n",
    "# 추가가 필요한 내용은 추가해주세요\n",
    "# 특히 시각화 자료 무조건 더 추가하세요\n",
    "# 시각화 예시) 타겟변수 불균형, 모델 성능 결과"
   ]
  },
  {
   "cell_type": "code",
   "execution_count": null,
   "id": "fe831fc6-fa1a-4de6-bc9b-51382f3b0c65",
   "metadata": {},
   "outputs": [],
   "source": []
  }
 ],
 "metadata": {
  "kernelspec": {
   "display_name": "Python 3 (ipykernel)",
   "language": "python",
   "name": "python3"
  },
  "language_info": {
   "codemirror_mode": {
    "name": "ipython",
    "version": 3
   },
   "file_extension": ".py",
   "mimetype": "text/x-python",
   "name": "python",
   "nbconvert_exporter": "python",
   "pygments_lexer": "ipython3",
   "version": "3.12.7"
  }
 },
 "nbformat": 4,
 "nbformat_minor": 5
}
