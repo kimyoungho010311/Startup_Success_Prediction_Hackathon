{
 "cells": [
  {
   "cell_type": "code",
   "execution_count": 26,
   "id": "f8df8440-55b8-4305-a602-12feef9e1a34",
   "metadata": {},
   "outputs": [],
   "source": [
    "import pandas as pd\n",
    "import numpy as np\n",
    "import matplotlib.pyplot as plt\n",
    "from matplotlib import rc\n",
    "import seaborn as sns\n",
    "import warnings\n",
    "from sklearn.ensemble import RandomForestRegressor\n",
    "\n",
    "# Ignore FutureWarnings\n",
    "warnings.simplefilter(action='ignore', category=FutureWarning)\n",
    "\n",
    "rc('font', family='AppleGothic') # 애플 폰트 사용\n",
    "plt.rcParams['axes.unicode_minus'] = False # 마이너스 부호 안깨지게 설정"
   ]
  },
  {
   "cell_type": "code",
   "execution_count": 27,
   "id": "4d701655-2a07-4a81-b33c-9617bd835cc2",
   "metadata": {},
   "outputs": [],
   "source": [
    "test = pd.read_csv(\"../../data/raw/test.csv\")\n",
    "train = pd.read_csv(\"../../data/raw/train.csv\")"
   ]
  },
  {
   "cell_type": "code",
   "execution_count": 28,
   "id": "baa835ba-9c76-4496-9d3a-0d3125356818",
   "metadata": {
    "scrolled": true
   },
   "outputs": [
    {
     "data": {
      "text/html": [
       "<div>\n",
       "<style scoped>\n",
       "    .dataframe tbody tr th:only-of-type {\n",
       "        vertical-align: middle;\n",
       "    }\n",
       "\n",
       "    .dataframe tbody tr th {\n",
       "        vertical-align: top;\n",
       "    }\n",
       "\n",
       "    .dataframe thead th {\n",
       "        text-align: right;\n",
       "    }\n",
       "</style>\n",
       "<table border=\"1\" class=\"dataframe\">\n",
       "  <thead>\n",
       "    <tr style=\"text-align: right;\">\n",
       "      <th></th>\n",
       "      <th>ID</th>\n",
       "      <th>설립연도</th>\n",
       "      <th>국가</th>\n",
       "      <th>분야</th>\n",
       "      <th>투자단계</th>\n",
       "      <th>직원 수</th>\n",
       "      <th>인수여부</th>\n",
       "      <th>상장여부</th>\n",
       "      <th>고객수(백만명)</th>\n",
       "      <th>총 투자금(억원)</th>\n",
       "      <th>연매출(억원)</th>\n",
       "      <th>SNS 팔로워 수(백만명)</th>\n",
       "      <th>기업가치(백억원)</th>\n",
       "    </tr>\n",
       "  </thead>\n",
       "  <tbody>\n",
       "    <tr>\n",
       "      <th>0</th>\n",
       "      <td>TEST_0000</td>\n",
       "      <td>2002</td>\n",
       "      <td>CT010</td>\n",
       "      <td>핀테크</td>\n",
       "      <td>Series C</td>\n",
       "      <td>3261.0</td>\n",
       "      <td>No</td>\n",
       "      <td>Yes</td>\n",
       "      <td>45.0</td>\n",
       "      <td>5021.0</td>\n",
       "      <td>6680.0</td>\n",
       "      <td>2.00</td>\n",
       "      <td>1500-2500</td>\n",
       "    </tr>\n",
       "    <tr>\n",
       "      <th>1</th>\n",
       "      <td>TEST_0001</td>\n",
       "      <td>2020</td>\n",
       "      <td>CT001</td>\n",
       "      <td>푸드테크</td>\n",
       "      <td>Series C</td>\n",
       "      <td>3707.0</td>\n",
       "      <td>Yes</td>\n",
       "      <td>No</td>\n",
       "      <td>70.0</td>\n",
       "      <td>1601.0</td>\n",
       "      <td>4654.0</td>\n",
       "      <td>4.20</td>\n",
       "      <td>NaN</td>\n",
       "    </tr>\n",
       "    <tr>\n",
       "      <th>2</th>\n",
       "      <td>TEST_0002</td>\n",
       "      <td>2014</td>\n",
       "      <td>CT006</td>\n",
       "      <td>에듀테크</td>\n",
       "      <td>IPO</td>\n",
       "      <td>236.0</td>\n",
       "      <td>Yes</td>\n",
       "      <td>Yes</td>\n",
       "      <td>89.0</td>\n",
       "      <td>4709.0</td>\n",
       "      <td>9289.0</td>\n",
       "      <td>1.00</td>\n",
       "      <td>6000이상</td>\n",
       "    </tr>\n",
       "    <tr>\n",
       "      <th>3</th>\n",
       "      <td>TEST_0003</td>\n",
       "      <td>2003</td>\n",
       "      <td>CT001</td>\n",
       "      <td>에너지</td>\n",
       "      <td>Seed</td>\n",
       "      <td>637.0</td>\n",
       "      <td>Yes</td>\n",
       "      <td>Yes</td>\n",
       "      <td>17.0</td>\n",
       "      <td>2145.0</td>\n",
       "      <td>7005.0</td>\n",
       "      <td>5.00</td>\n",
       "      <td>1500-2500</td>\n",
       "    </tr>\n",
       "    <tr>\n",
       "      <th>4</th>\n",
       "      <td>TEST_0004</td>\n",
       "      <td>2006</td>\n",
       "      <td>CT010</td>\n",
       "      <td>핀테크</td>\n",
       "      <td>Seed</td>\n",
       "      <td>4922.0</td>\n",
       "      <td>Yes</td>\n",
       "      <td>No</td>\n",
       "      <td>68.0</td>\n",
       "      <td>4995.0</td>\n",
       "      <td>7593.0</td>\n",
       "      <td>4.36</td>\n",
       "      <td>NaN</td>\n",
       "    </tr>\n",
       "  </tbody>\n",
       "</table>\n",
       "</div>"
      ],
      "text/plain": [
       "          ID  설립연도     국가    분야      투자단계    직원 수 인수여부 상장여부  고객수(백만명)  \\\n",
       "0  TEST_0000  2002  CT010   핀테크  Series C  3261.0   No  Yes      45.0   \n",
       "1  TEST_0001  2020  CT001  푸드테크  Series C  3707.0  Yes   No      70.0   \n",
       "2  TEST_0002  2014  CT006  에듀테크       IPO   236.0  Yes  Yes      89.0   \n",
       "3  TEST_0003  2003  CT001   에너지      Seed   637.0  Yes  Yes      17.0   \n",
       "4  TEST_0004  2006  CT010   핀테크      Seed  4922.0  Yes   No      68.0   \n",
       "\n",
       "   총 투자금(억원)  연매출(억원)  SNS 팔로워 수(백만명)  기업가치(백억원)  \n",
       "0     5021.0   6680.0            2.00  1500-2500  \n",
       "1     1601.0   4654.0            4.20        NaN  \n",
       "2     4709.0   9289.0            1.00     6000이상  \n",
       "3     2145.0   7005.0            5.00  1500-2500  \n",
       "4     4995.0   7593.0            4.36        NaN  "
      ]
     },
     "execution_count": 28,
     "metadata": {},
     "output_type": "execute_result"
    }
   ],
   "source": [
    "test.head()"
   ]
  },
  {
   "cell_type": "code",
   "execution_count": 29,
   "id": "a88962bc-f7e0-4229-9f48-91b2fe0d6495",
   "metadata": {
    "scrolled": true
   },
   "outputs": [
    {
     "data": {
      "text/html": [
       "<div>\n",
       "<style scoped>\n",
       "    .dataframe tbody tr th:only-of-type {\n",
       "        vertical-align: middle;\n",
       "    }\n",
       "\n",
       "    .dataframe tbody tr th {\n",
       "        vertical-align: top;\n",
       "    }\n",
       "\n",
       "    .dataframe thead th {\n",
       "        text-align: right;\n",
       "    }\n",
       "</style>\n",
       "<table border=\"1\" class=\"dataframe\">\n",
       "  <thead>\n",
       "    <tr style=\"text-align: right;\">\n",
       "      <th></th>\n",
       "      <th>ID</th>\n",
       "      <th>설립연도</th>\n",
       "      <th>국가</th>\n",
       "      <th>분야</th>\n",
       "      <th>투자단계</th>\n",
       "      <th>직원 수</th>\n",
       "      <th>인수여부</th>\n",
       "      <th>상장여부</th>\n",
       "      <th>고객수(백만명)</th>\n",
       "      <th>총 투자금(억원)</th>\n",
       "      <th>연매출(억원)</th>\n",
       "      <th>SNS 팔로워 수(백만명)</th>\n",
       "      <th>기업가치(백억원)</th>\n",
       "      <th>성공확률</th>\n",
       "    </tr>\n",
       "  </thead>\n",
       "  <tbody>\n",
       "    <tr>\n",
       "      <th>0</th>\n",
       "      <td>TRAIN_0000</td>\n",
       "      <td>2009</td>\n",
       "      <td>CT005</td>\n",
       "      <td>이커머스</td>\n",
       "      <td>Series A</td>\n",
       "      <td>4126.0</td>\n",
       "      <td>No</td>\n",
       "      <td>No</td>\n",
       "      <td>56.0</td>\n",
       "      <td>3365.0</td>\n",
       "      <td>4764.0</td>\n",
       "      <td>4.71</td>\n",
       "      <td>NaN</td>\n",
       "      <td>0.3</td>\n",
       "    </tr>\n",
       "    <tr>\n",
       "      <th>1</th>\n",
       "      <td>TRAIN_0001</td>\n",
       "      <td>2023</td>\n",
       "      <td>CT006</td>\n",
       "      <td>핀테크</td>\n",
       "      <td>Seed</td>\n",
       "      <td>4167.0</td>\n",
       "      <td>Yes</td>\n",
       "      <td>No</td>\n",
       "      <td>80.0</td>\n",
       "      <td>4069.0</td>\n",
       "      <td>279.0</td>\n",
       "      <td>1.00</td>\n",
       "      <td>2500-3500</td>\n",
       "      <td>0.8</td>\n",
       "    </tr>\n",
       "    <tr>\n",
       "      <th>2</th>\n",
       "      <td>TRAIN_0002</td>\n",
       "      <td>2018</td>\n",
       "      <td>CT007</td>\n",
       "      <td>기술</td>\n",
       "      <td>Series A</td>\n",
       "      <td>3132.0</td>\n",
       "      <td>Yes</td>\n",
       "      <td>Yes</td>\n",
       "      <td>54.0</td>\n",
       "      <td>6453.0</td>\n",
       "      <td>12141.0</td>\n",
       "      <td>4.00</td>\n",
       "      <td>3500-4500</td>\n",
       "      <td>0.5</td>\n",
       "    </tr>\n",
       "    <tr>\n",
       "      <th>3</th>\n",
       "      <td>TRAIN_0003</td>\n",
       "      <td>2016</td>\n",
       "      <td>CT006</td>\n",
       "      <td>NaN</td>\n",
       "      <td>Seed</td>\n",
       "      <td>3245.0</td>\n",
       "      <td>Yes</td>\n",
       "      <td>Yes</td>\n",
       "      <td>NaN</td>\n",
       "      <td>665.0</td>\n",
       "      <td>10547.0</td>\n",
       "      <td>2.97</td>\n",
       "      <td>NaN</td>\n",
       "      <td>0.7</td>\n",
       "    </tr>\n",
       "    <tr>\n",
       "      <th>4</th>\n",
       "      <td>TRAIN_0004</td>\n",
       "      <td>2020</td>\n",
       "      <td>CT002</td>\n",
       "      <td>에듀테크</td>\n",
       "      <td>Seed</td>\n",
       "      <td>1969.0</td>\n",
       "      <td>No</td>\n",
       "      <td>Yes</td>\n",
       "      <td>94.0</td>\n",
       "      <td>829.0</td>\n",
       "      <td>9810.0</td>\n",
       "      <td>1.00</td>\n",
       "      <td>1500-2500</td>\n",
       "      <td>0.1</td>\n",
       "    </tr>\n",
       "  </tbody>\n",
       "</table>\n",
       "</div>"
      ],
      "text/plain": [
       "           ID  설립연도     국가    분야      투자단계    직원 수 인수여부 상장여부  고객수(백만명)  \\\n",
       "0  TRAIN_0000  2009  CT005  이커머스  Series A  4126.0   No   No      56.0   \n",
       "1  TRAIN_0001  2023  CT006   핀테크      Seed  4167.0  Yes   No      80.0   \n",
       "2  TRAIN_0002  2018  CT007    기술  Series A  3132.0  Yes  Yes      54.0   \n",
       "3  TRAIN_0003  2016  CT006   NaN      Seed  3245.0  Yes  Yes       NaN   \n",
       "4  TRAIN_0004  2020  CT002  에듀테크      Seed  1969.0   No  Yes      94.0   \n",
       "\n",
       "   총 투자금(억원)  연매출(억원)  SNS 팔로워 수(백만명)  기업가치(백억원)  성공확률  \n",
       "0     3365.0   4764.0            4.71        NaN   0.3  \n",
       "1     4069.0    279.0            1.00  2500-3500   0.8  \n",
       "2     6453.0  12141.0            4.00  3500-4500   0.5  \n",
       "3      665.0  10547.0            2.97        NaN   0.7  \n",
       "4      829.0   9810.0            1.00  1500-2500   0.1  "
      ]
     },
     "execution_count": 29,
     "metadata": {},
     "output_type": "execute_result"
    }
   ],
   "source": [
    "train.head()"
   ]
  },
  {
   "cell_type": "markdown",
   "id": "0227682b-2fea-4f31-a222-a7a4af9f57cd",
   "metadata": {},
   "source": [
    "# EDA"
   ]
  },
  {
   "cell_type": "code",
   "execution_count": 30,
   "id": "bfee2a92-3a5c-4e92-bcf1-c06ac38864ff",
   "metadata": {},
   "outputs": [
    {
     "data": {
      "text/html": [
       "<div>\n",
       "<style scoped>\n",
       "    .dataframe tbody tr th:only-of-type {\n",
       "        vertical-align: middle;\n",
       "    }\n",
       "\n",
       "    .dataframe tbody tr th {\n",
       "        vertical-align: top;\n",
       "    }\n",
       "\n",
       "    .dataframe thead th {\n",
       "        text-align: right;\n",
       "    }\n",
       "</style>\n",
       "<table border=\"1\" class=\"dataframe\">\n",
       "  <thead>\n",
       "    <tr style=\"text-align: right;\">\n",
       "      <th></th>\n",
       "      <th>설립연도</th>\n",
       "      <th>직원 수</th>\n",
       "      <th>고객수(백만명)</th>\n",
       "      <th>총 투자금(억원)</th>\n",
       "      <th>연매출(억원)</th>\n",
       "      <th>SNS 팔로워 수(백만명)</th>\n",
       "      <th>성공확률</th>\n",
       "    </tr>\n",
       "  </thead>\n",
       "  <tbody>\n",
       "    <tr>\n",
       "      <th>count</th>\n",
       "      <td>4376.000000</td>\n",
       "      <td>4202.000000</td>\n",
       "      <td>3056.000000</td>\n",
       "      <td>4376.000000</td>\n",
       "      <td>4376.000000</td>\n",
       "      <td>4376.000000</td>\n",
       "      <td>4376.000000</td>\n",
       "    </tr>\n",
       "    <tr>\n",
       "      <th>mean</th>\n",
       "      <td>2012.006856</td>\n",
       "      <td>2471.324369</td>\n",
       "      <td>49.214332</td>\n",
       "      <td>3314.568556</td>\n",
       "      <td>6452.202239</td>\n",
       "      <td>2.578103</td>\n",
       "      <td>0.537340</td>\n",
       "    </tr>\n",
       "    <tr>\n",
       "      <th>std</th>\n",
       "      <td>6.554872</td>\n",
       "      <td>1446.064215</td>\n",
       "      <td>27.141242</td>\n",
       "      <td>1880.103831</td>\n",
       "      <td>3782.792656</td>\n",
       "      <td>1.414590</td>\n",
       "      <td>0.241698</td>\n",
       "    </tr>\n",
       "    <tr>\n",
       "      <th>min</th>\n",
       "      <td>2001.000000</td>\n",
       "      <td>5.000000</td>\n",
       "      <td>1.000000</td>\n",
       "      <td>12.000000</td>\n",
       "      <td>12.000000</td>\n",
       "      <td>0.000000</td>\n",
       "      <td>0.100000</td>\n",
       "    </tr>\n",
       "    <tr>\n",
       "      <th>25%</th>\n",
       "      <td>2006.000000</td>\n",
       "      <td>1218.250000</td>\n",
       "      <td>27.000000</td>\n",
       "      <td>1651.500000</td>\n",
       "      <td>3094.250000</td>\n",
       "      <td>1.320000</td>\n",
       "      <td>0.400000</td>\n",
       "    </tr>\n",
       "    <tr>\n",
       "      <th>50%</th>\n",
       "      <td>2012.000000</td>\n",
       "      <td>2472.000000</td>\n",
       "      <td>49.000000</td>\n",
       "      <td>3398.000000</td>\n",
       "      <td>6478.500000</td>\n",
       "      <td>2.835000</td>\n",
       "      <td>0.600000</td>\n",
       "    </tr>\n",
       "    <tr>\n",
       "      <th>75%</th>\n",
       "      <td>2018.000000</td>\n",
       "      <td>3727.500000</td>\n",
       "      <td>72.000000</td>\n",
       "      <td>4908.250000</td>\n",
       "      <td>9692.500000</td>\n",
       "      <td>4.000000</td>\n",
       "      <td>0.700000</td>\n",
       "    </tr>\n",
       "    <tr>\n",
       "      <th>max</th>\n",
       "      <td>2023.000000</td>\n",
       "      <td>4998.000000</td>\n",
       "      <td>99.000000</td>\n",
       "      <td>7059.000000</td>\n",
       "      <td>14822.000000</td>\n",
       "      <td>5.000000</td>\n",
       "      <td>0.900000</td>\n",
       "    </tr>\n",
       "  </tbody>\n",
       "</table>\n",
       "</div>"
      ],
      "text/plain": [
       "              설립연도         직원 수     고객수(백만명)    총 투자금(억원)       연매출(억원)  \\\n",
       "count  4376.000000  4202.000000  3056.000000  4376.000000   4376.000000   \n",
       "mean   2012.006856  2471.324369    49.214332  3314.568556   6452.202239   \n",
       "std       6.554872  1446.064215    27.141242  1880.103831   3782.792656   \n",
       "min    2001.000000     5.000000     1.000000    12.000000     12.000000   \n",
       "25%    2006.000000  1218.250000    27.000000  1651.500000   3094.250000   \n",
       "50%    2012.000000  2472.000000    49.000000  3398.000000   6478.500000   \n",
       "75%    2018.000000  3727.500000    72.000000  4908.250000   9692.500000   \n",
       "max    2023.000000  4998.000000    99.000000  7059.000000  14822.000000   \n",
       "\n",
       "       SNS 팔로워 수(백만명)         성공확률  \n",
       "count     4376.000000  4376.000000  \n",
       "mean         2.578103     0.537340  \n",
       "std          1.414590     0.241698  \n",
       "min          0.000000     0.100000  \n",
       "25%          1.320000     0.400000  \n",
       "50%          2.835000     0.600000  \n",
       "75%          4.000000     0.700000  \n",
       "max          5.000000     0.900000  "
      ]
     },
     "execution_count": 30,
     "metadata": {},
     "output_type": "execute_result"
    }
   ],
   "source": [
    "train.describe()"
   ]
  },
  {
   "cell_type": "code",
   "execution_count": 31,
   "id": "4a5f0a4e-1ad5-47e0-8e5d-5d3b5c1ef89f",
   "metadata": {},
   "outputs": [
    {
     "data": {
      "text/plain": [
       "ID                   0\n",
       "설립연도                 0\n",
       "국가                   0\n",
       "분야                 857\n",
       "투자단계                 0\n",
       "직원 수               174\n",
       "인수여부                 0\n",
       "상장여부                 0\n",
       "고객수(백만명)          1320\n",
       "총 투자금(억원)            0\n",
       "연매출(억원)              0\n",
       "SNS 팔로워 수(백만명)       0\n",
       "기업가치(백억원)         1220\n",
       "성공확률                 0\n",
       "dtype: int64"
      ]
     },
     "execution_count": 31,
     "metadata": {},
     "output_type": "execute_result"
    }
   ],
   "source": [
    "train.isna().sum()"
   ]
  },
  {
   "cell_type": "code",
   "execution_count": 32,
   "id": "9a6c1c49-37f8-49e4-9179-14bd387fcd72",
   "metadata": {
    "scrolled": true
   },
   "outputs": [
    {
     "data": {
      "text/plain": [
       "ID                0.000000\n",
       "설립연도              0.000000\n",
       "국가                0.000000\n",
       "분야                0.195841\n",
       "투자단계              0.000000\n",
       "직원 수              0.039762\n",
       "인수여부              0.000000\n",
       "상장여부              0.000000\n",
       "고객수(백만명)          0.301645\n",
       "총 투자금(억원)         0.000000\n",
       "연매출(억원)           0.000000\n",
       "SNS 팔로워 수(백만명)    0.000000\n",
       "기업가치(백억원)         0.278793\n",
       "성공확률              0.000000\n",
       "dtype: float64"
      ]
     },
     "execution_count": 32,
     "metadata": {},
     "output_type": "execute_result"
    }
   ],
   "source": [
    "train.isna().sum() / len(train)\n",
    "# 각 컬럼별 결측치 비율"
   ]
  },
  {
   "cell_type": "markdown",
   "id": "07d0c68e-5b43-4dff-8b79-de8f33be299b",
   "metadata": {},
   "source": [
    "---\n",
    "### 1. 고객수(백만명)의 count가 다른 컬럼보다 적다.   \n",
    "### 2. SNS 팔로워 수(백만명) 의 값이 0 인 부분은 결측치로 본다 -> 스타트업 기준 가장 기본적인 홍보 방법이 sns로 판단함\n",
    "### 3. 연매출, 투자금을 사용해 수익성 분석을 시도할수있음."
   ]
  },
  {
   "cell_type": "markdown",
   "id": "0d97003a-3f3f-426a-a2bf-b0fa00f016ec",
   "metadata": {},
   "source": [
    "파생 변수 만들어볼만한듯?  \n",
    "1. 기엽_연령 : 신뢰도, 생존력 -> 얼마나 사업이 안정적인지? - 기준은 2025년으로 한다.  \n",
    "    ( 어느 년도를 기준으로 계산할지 문의를 남겼지만 알아서 판단하라고 답장옴. )\n",
    "\n",
    "3. 직원당 매출 : 생산성 -> 사람 1명당 얼마나 벌어들이는지를 의미, 효율성이 높을수록 기업 체계가 잘 잡혔다\n",
    "4. 고객당 매출 : 고객 질 -> 수익성을 나타냄\n",
    "5. 투자단계 : 성장 단계 -> 투자단계 차제가 시업 성장의 척도이다. 뒤로 갈수록 검증된 기업이라는 의미 (순서형 변수로 인코딩)\n",
    "6. 인수여부_x_투자단계 : 어느 투자 단계에서 인수했는지? -> 초기단계에 인수될수록 수익성 높은 사업이라고 판단함\n",
    "\n",
    "파생변수는 먼저 전처리를 한 뒤에 피처중요도로 판단하자!"
   ]
  },
  {
   "cell_type": "code",
   "execution_count": 33,
   "id": "ddf180ea-3948-4842-80c0-29196998f708",
   "metadata": {},
   "outputs": [
    {
     "data": {
      "text/plain": [
       "count    4376.000000\n",
       "mean     2012.006856\n",
       "std         6.554872\n",
       "min      2001.000000\n",
       "25%      2006.000000\n",
       "50%      2012.000000\n",
       "75%      2018.000000\n",
       "max      2023.000000\n",
       "Name: 설립연도, dtype: float64"
      ]
     },
     "execution_count": 33,
     "metadata": {},
     "output_type": "execute_result"
    }
   ],
   "source": [
    "train['설립연도'].describe()"
   ]
  },
  {
   "cell_type": "code",
   "execution_count": 34,
   "id": "6c339204-387c-4a36-b392-4dffa8ee6595",
   "metadata": {},
   "outputs": [
    {
     "name": "stdout",
     "output_type": "stream",
     "text": [
      "[2001 2002 2003 2004 2005 2006 2007 2008 2009 2010 2011 2012 2013 2014\n",
      " 2015 2016 2017 2018 2019 2020 2021 2022 2023]\n"
     ]
    }
   ],
   "source": [
    "# 2001 ~ 2023년까지 빠진 년도있나 확인\n",
    "year = train['설립연도'].unique()\n",
    "year.sort()\n",
    "print(year)"
   ]
  },
  {
   "cell_type": "markdown",
   "id": "e7a051f4-0eb7-4964-9671-3ccde764ca26",
   "metadata": {},
   "source": [
    "누락된 연도 없이 모두 잘 포함됨. 결측치 없음을 확인하고 그대로 모델에 입력 예정"
   ]
  },
  {
   "cell_type": "code",
   "execution_count": 35,
   "id": "d442fc3a-2086-41c2-8922-542a1977f3cc",
   "metadata": {},
   "outputs": [
    {
     "data": {
      "text/plain": [
       "array(['CT005', 'CT006', 'CT007', 'CT002', 'CT008', 'CT010', 'CT001',\n",
       "       'CT009', 'CT003', 'CT004'], dtype=object)"
      ]
     },
     "execution_count": 35,
     "metadata": {},
     "output_type": "execute_result"
    }
   ],
   "source": [
    "train['국가'].unique()\n",
    "# 국가코드는 공식으로 사용하는 문자가 아닌 따로 사용하는 비공식적인 코드로 보임\n",
    "# 결측치 없음, 범주형 인코딩(원 핫 인코딩) 사용 예정\n",
    "# 데이터의 순서가 없음으로 원 핫 인코딩 사용으로 결정"
   ]
  },
  {
   "cell_type": "code",
   "execution_count": 36,
   "id": "7987a37e-aca6-432a-8198-15bdd14074e2",
   "metadata": {},
   "outputs": [
    {
     "name": "stdout",
     "output_type": "stream",
     "text": [
      "분야의 결측치 비율 : 19.58%\n"
     ]
    }
   ],
   "source": [
    "print(f\"분야의 결측치 비율 : {(train['분야'].isnull().sum() / len(train['분야'])) * 100:.2f}%\")"
   ]
  },
  {
   "cell_type": "code",
   "execution_count": 37,
   "id": "15b11d6c-229c-4dc4-9eec-804e70458262",
   "metadata": {},
   "outputs": [
    {
     "data": {
      "text/plain": [
       "array(['이커머스', '핀테크', '기술', nan, '에듀테크', '게임', '헬스케어', '물류', '푸드테크', 'AI',\n",
       "       '에너지'], dtype=object)"
      ]
     },
     "execution_count": 37,
     "metadata": {},
     "output_type": "execute_result"
    }
   ],
   "source": [
    "train['분야'].unique()\n",
    "# 결측치 비율이 20%임. -> 적은 수준인가? -> 적은 수준이라고 판단함.\n",
    "# 숫자형이 아니므로 Unknown으로 대체할 예정임\n",
    "# 마찬가지로 순서가 없기 때문에 One Hot encoding으로 할 예정\n",
    "# 컬럼이 너무 많이 생기는거 아닌가? -> 컬럼이 총 11개 생성되지만 모델 학습에 큰 영향은 없다고 개인적인 판단\n",
    "# 30 ~ 50 개 부터 문제 생김"
   ]
  },
  {
   "cell_type": "code",
   "execution_count": 38,
   "id": "ef367964-ceda-47b0-8ddb-68f58ff107c4",
   "metadata": {},
   "outputs": [
    {
     "data": {
      "text/plain": [
       "array(['Series A', 'Seed', 'Series C', 'Series B', 'IPO'], dtype=object)"
      ]
     },
     "execution_count": 38,
     "metadata": {},
     "output_type": "execute_result"
    }
   ],
   "source": [
    "train['투자단계'].unique()\n",
    "# 투자 단계는 결측치가 없음\n",
    "# 이건 순서가 있으니 Label encoding 가능한가? -> 직접 맵핑하자\n",
    "# Seed : Series A : Series B : Series C : IPO 순서로 나열 가능함?\n",
    "# Label encoding 문제점이 있는걸로 보임 -> Oridinal Encoding 비교해봐야할듯 \n",
    "# 모델에 따라 인코딩이 달라질듯"
   ]
  },
  {
   "cell_type": "code",
   "execution_count": 39,
   "id": "7c1f52e3-44ca-4b33-a757-2c7a00f01a30",
   "metadata": {},
   "outputs": [
    {
     "data": {
      "text/plain": [
       "array(['No', 'Yes'], dtype=object)"
      ]
     },
     "execution_count": 39,
     "metadata": {},
     "output_type": "execute_result"
    }
   ],
   "source": [
    "train['인수여부'].unique()\n",
    "# 범주형임 One-hot encoding\n",
    "# 결측치도 없다.\n",
    "# 투자단계와 파생변수를 만들기"
   ]
  },
  {
   "cell_type": "code",
   "execution_count": 40,
   "id": "d336f82a-5f66-4d79-840f-09a638606982",
   "metadata": {},
   "outputs": [
    {
     "data": {
      "text/plain": [
       "array(['No', 'Yes'], dtype=object)"
      ]
     },
     "execution_count": 40,
     "metadata": {},
     "output_type": "execute_result"
    }
   ],
   "source": [
    "train['상장여부'].unique()\n",
    "# 범주형인 One-hot encoding"
   ]
  },
  {
   "cell_type": "code",
   "execution_count": 41,
   "id": "fc984290-6712-4734-a820-6c248288b979",
   "metadata": {},
   "outputs": [
    {
     "data": {
      "text/plain": [
       "0       3365.0\n",
       "1       4069.0\n",
       "2       6453.0\n",
       "3        665.0\n",
       "4        829.0\n",
       "         ...  \n",
       "4371    4187.0\n",
       "4372     796.0\n",
       "4373    3314.0\n",
       "4374    2395.0\n",
       "4375     903.0\n",
       "Name: 총 투자금(억원), Length: 4376, dtype: float64"
      ]
     },
     "execution_count": 41,
     "metadata": {},
     "output_type": "execute_result"
    }
   ],
   "source": [
    "train['총 투자금(억원)']\n",
    "# 결측치도 없고 깔끔한 수치형 데이터인듯\n",
    "# 굳이 float으로 처리해야하나? 정수형이 더 적은 메모리 사용?"
   ]
  },
  {
   "cell_type": "code",
   "execution_count": 42,
   "id": "87e26c68-57de-45ba-9870-3f770d48e81c",
   "metadata": {},
   "outputs": [
    {
     "name": "stdout",
     "output_type": "stream",
     "text": [
      "0\n"
     ]
    }
   ],
   "source": [
    "# 소수점 이하가 0이 아닌 값의 개수\n",
    "# 없으니깐 그냥 정수형처리로 한다.\n",
    "count = (train[\"총 투자금(억원)\"] % 1 != 0).sum()\n",
    "print(count)"
   ]
  },
  {
   "cell_type": "code",
   "execution_count": 43,
   "id": "8519dbdc-678b-468e-8482-7cf3a3fa2603",
   "metadata": {},
   "outputs": [
    {
     "data": {
      "text/plain": [
       "0        4764.0\n",
       "1         279.0\n",
       "2       12141.0\n",
       "3       10547.0\n",
       "4        9810.0\n",
       "         ...   \n",
       "4371     9394.0\n",
       "4372     2969.0\n",
       "4373     4512.0\n",
       "4374     3755.0\n",
       "4375     9417.0\n",
       "Name: 연매출(억원), Length: 4376, dtype: float64"
      ]
     },
     "execution_count": 43,
     "metadata": {},
     "output_type": "execute_result"
    }
   ],
   "source": [
    "train['연매출(억원)']\n",
    "# 결측치도 없고 깔끔한 수치형\n",
    "# 정수형으로 변환 고민?"
   ]
  },
  {
   "cell_type": "code",
   "execution_count": 44,
   "id": "11b28226-6ef5-4430-b5df-e7aad4393a55",
   "metadata": {},
   "outputs": [
    {
     "name": "stdout",
     "output_type": "stream",
     "text": [
      "0\n"
     ]
    }
   ],
   "source": [
    "# 정수로 변환 확정\n",
    "count = (train['연매출(억원)']%1 != 0).sum()\n",
    "print(count)"
   ]
  },
  {
   "cell_type": "code",
   "execution_count": 45,
   "id": "e93ee60c-d5b3-4279-b929-8f24d42ccd35",
   "metadata": {},
   "outputs": [
    {
     "data": {
      "text/plain": [
       "count    4376.000000\n",
       "mean        2.578103\n",
       "std         1.414590\n",
       "min         0.000000\n",
       "25%         1.320000\n",
       "50%         2.835000\n",
       "75%         4.000000\n",
       "max         5.000000\n",
       "Name: SNS 팔로워 수(백만명), dtype: float64"
      ]
     },
     "execution_count": 45,
     "metadata": {},
     "output_type": "execute_result"
    }
   ],
   "source": [
    "train['SNS 팔로워 수(백만명)'].describe()"
   ]
  },
  {
   "cell_type": "code",
   "execution_count": 46,
   "id": "118cdd7e-fc1e-4de5-8f9b-b8388d03a2b3",
   "metadata": {},
   "outputs": [
    {
     "data": {
      "text/plain": [
       "array([nan, '2500-3500', '3500-4500', '1500-2500', '4500-6000', '6000이상'],\n",
       "      dtype=object)"
      ]
     },
     "execution_count": 46,
     "metadata": {},
     "output_type": "execute_result"
    }
   ],
   "source": [
    "train['기업가치(백억원)'].unique()"
   ]
  },
  {
   "cell_type": "code",
   "execution_count": 47,
   "id": "c1424236-46c4-402f-8ef8-0b8402aedd48",
   "metadata": {},
   "outputs": [
    {
     "data": {
      "text/plain": [
       "0       0.3\n",
       "1       0.8\n",
       "2       0.5\n",
       "3       0.7\n",
       "4       0.1\n",
       "       ... \n",
       "4371    0.8\n",
       "4372    0.4\n",
       "4373    0.6\n",
       "4374    0.9\n",
       "4375    0.6\n",
       "Name: 성공확률, Length: 4376, dtype: float64"
      ]
     },
     "execution_count": 47,
     "metadata": {},
     "output_type": "execute_result"
    }
   ],
   "source": [
    "train['성공확률']\n",
    "# 사용 모델에 따라 스케일링 해야할듯"
   ]
  },
  {
   "cell_type": "code",
   "execution_count": 48,
   "id": "eb4d7e86-97e8-4352-9c51-207199839f60",
   "metadata": {},
   "outputs": [
    {
     "data": {
      "image/png": "[encoded data removed]",
      "text/plain": [
       "<Figure size 2000x500 with 4 Axes>"
      ]
     },
     "metadata": {},
     "output_type": "display_data"
    }
   ],
   "source": [
    "# 서브플롯 설정\n",
    "fig, axes = plt.subplots(1, 4, figsize=(20, 5))  # 1행 3열\n",
    "\n",
    "# 직원 수\n",
    "sns.histplot(train['직원 수'], bins=30, kde=True, ax=axes[0])\n",
    "axes[0].set_title('직원 수')\n",
    "axes[0].set_xlabel('직원 수')\n",
    "axes[0].set_ylabel('빈도 수')\n",
    "\n",
    "# 고객수(백만명)\n",
    "sns.histplot(train['고객수(백만명)'], bins=30, kde=True, ax=axes[1])\n",
    "axes[1].set_title(\"고객수(백만명)\")\n",
    "axes[1].set_ylabel('빈도 수')\n",
    "\n",
    "# SNS 팔로워 수(백만명)\n",
    "sns.histplot(train['SNS 팔로워 수(백만명)'], bins=30, kde=True, ax=axes[2])\n",
    "axes[2].set_title(\"SNS 팔로워 수(백만명)\")\n",
    "\n",
    "#기업가치(백억원)\n",
    "sns.histplot(train['기업가치(백억원)'], bins=30, kde=True)\n",
    "axes[3].set_title('기업가치(백억원)')\n",
    "plt.tight_layout()\n",
    "plt.show\n",
    "\n",
    "\n",
    "# 시각화 결과 저장\n",
    "plt.savefig('../../src/histograms.png', dpi=300, bbox_inches='tight')\n",
    "\n",
    "plt.show()"
   ]
  },
  {
   "cell_type": "markdown",
   "id": "e4d96664-2363-4b4c-b1cf-b642a3db3a9c",
   "metadata": {},
   "source": [
    "위에 그래프는 결측치를 어떻게 처리할지 판단을 위한 그래프임  \n",
    "직원 수는 데이터가 평균을 이루며 고르게 분포되어있다. -> 평균으로 대체  \n",
    "고객수(백만명)은 데이터가 중앙으로 몰림. -> 중앙값으로 대체  \n",
    "SNS 팔로워수는 인위적인 데이터로 보임 최빈값으로 대체  \n",
    "기업가치는 최빈값으로 대체"
   ]
  },
  {
   "cell_type": "markdown",
   "id": "ecb77e5f-0de4-4336-80d5-8411e891253d",
   "metadata": {},
   "source": [
    "# 데이터 전처리 전략 정리"
   ]
  },
  {
   "cell_type": "markdown",
   "id": "bdbc9441-42bc-4945-b1d5-e8d12150386f",
   "metadata": {},
   "source": [
    "---\n",
    "## 📌 설립연도\n",
    "- **타입**: 수치형 (정수형)\n",
    "- **결측치**: 없음\n",
    "- **처리 전략**: 그대로 모델에 사용\n",
    "- **비고**: 기업 나이 등 파생변수도 추후 고려 가능\n",
    "\n",
    "---\n",
    "\n",
    "## 📌 국가\n",
    "- **타입**: 범주형 (코드형 문자열)\n",
    "- **결측치**: 없음\n",
    "- **처리 전략**: 원-핫 인코딩 (One-Hot Encoding)\n",
    "- **비고**: 사람이 읽을 수 있는 국가명이 아닌 코드로 표현됨\n",
    "\n",
    "---\n",
    "\n",
    "## 📌 분야\n",
    "- **타입**: 범주형\n",
    "- **결측치**: 있음 → `'Unknown'`으로 대체\n",
    "- **처리 전략**: 원-핫 인코딩\n",
    "- **비고**: 고유값이 많으면 top-N 인코딩 고려 가능\n",
    "\n",
    "---\n",
    "\n",
    "## 📌 투자단계\n",
    "- **타입**: 범주형 (순서형)\n",
    "- **결측치**: 없음\n",
    "- **처리 전략**: 명확한 순서가 있으니 직접 숫자를 매핑\n",
    "- **비고**: **모델 종류에 따라 인코딩 전략 달라질 수 있음**\n",
    "\n",
    "---\n",
    "\n",
    "## 📌 직원 수\n",
    "- **타입**: 수치형 (float → int 가능)\n",
    "- **결측치**: 낮은 비율 → 평균으로 대체\n",
    "- **분포**: 균등 분포, 이상치 없음, 대칭적\n",
    "- **처리 전략**: `평균(mean)`으로 대체\n",
    "- **비고**: 필요시 정수형으로 타입 캐스팅 고려\n",
    "\n",
    "---\n",
    "\n",
    "## 📌 인수여부\n",
    "- **타입**: 범주형 (예/아니오 또는 Y/N)\n",
    "- **결측치**: 없음\n",
    "- **처리 전략**: 원-핫 인코딩\n",
    "\n",
    "---\n",
    "\n",
    "## 📌 상장여부\n",
    "- **타입**: 범주형 (상장 / 비상장)\n",
    "- **결측치**: 없음\n",
    "- **처리 전략**: 원-핫 인코딩\n",
    "\n",
    "---\n",
    "\n",
    "## 📌 고객수 (백만명)\n",
    "- **타입**: 수치형 (float)\n",
    "- **결측치**: 많음 (약 30%)\n",
    "- **분포**: 중앙값 주변에 밀집됨\n",
    "- **처리 전략**: `중앙값(median)`으로 대체\n",
    "- **비고**: 로그 변환, 구간화 등 추가 전처리 가능\n",
    "\n",
    "---\n",
    "\n",
    "## 📌 총 투자금 (억원)\n",
    "- **타입**: 수치형 (float)\n",
    "- **결측치**: 없음\n",
    "- **처리 전략**: 그대로 사용\n",
    "- **비고**: `int` 형 변환 시 메모리 최적화 가능\n",
    "\n",
    "---\n",
    "\n",
    "## 📌 연매출 (억원)\n",
    "- **타입**: 수치형 (float)\n",
    "- **결측치**: 없음\n",
    "- **처리 전략**: 그대로 사용\n",
    "- **비고**: `int` 형 변환 시 메모리 최적화 가능\n",
    "\n",
    "---\n",
    "\n",
    "## 📌 SNS 팔로워 수 (백만명)\n",
    "- **타입**: 수치형 (정수 느낌의 분포)\n",
    "- **결측치**: 있음\n",
    "- **분포**: 인위적으로 구간화된 듯한 분포\n",
    "- **처리 전략**: `최빈값(mode)`으로 대체\n",
    "\n",
    "---\n",
    "\n",
    "## 📌 기업가치 (백억원)\n",
    "- **타입**: 범주형 (구간 문자열)\n",
    "- **결측치**: 많음\n",
    "- **처리 전략**: \n",
    "  - 상황에 따라 `'Unknown'` 또는 \n",
    "  - 평균 구간 추정 기반으로 대체\n",
    "- **비고**: 수치화해서 분석 가능. 순서형 변수로 사용 가능"
   ]
  },
  {
   "cell_type": "markdown",
   "id": "50ac7e64-c2b4-4eed-bb2b-acef318887ce",
   "metadata": {},
   "source": [
    "# 파생변수 생성 및 전처리 함수"
   ]
  },
  {
   "cell_type": "code",
   "execution_count": 49,
   "id": "0f260e24-4c94-47cf-a2a5-ea1f105828a1",
   "metadata": {},
   "outputs": [],
   "source": [
    "def preprocess(df):\n",
    "    \"\"\"\n",
    "    주어진 데이터프레임에 대해 전처리 수행:\n",
    "    - 결측치 처리\n",
    "    - 인코딩\n",
    "    - 매핑\n",
    "    - 형변환 등\n",
    "    \"\"\"\n",
    "    # 1. 설립연도: 그대로 사용 (패스)\n",
    "\n",
    "    # 2. 국가: 원핫 인코딩\n",
    "    df = pd.get_dummies(df, columns=['국가'])\n",
    "\n",
    "    # 3. 분야: 결측치 → 'Unknown', 원핫 인코딩\n",
    "    df['분야'].fillna('Unknown', inplace=True)\n",
    "    df = pd.get_dummies(df, columns=['분야'])\n",
    "\n",
    "    # 4. 투자단계: 수동 매핑\n",
    "    investment_stage_order = {\n",
    "        'Seed': 0,\n",
    "        'Series A': 1,\n",
    "        'Series B': 2,\n",
    "        'Series C': 3,\n",
    "        'IPO': 4\n",
    "    }\n",
    "    df['투자단계'] = df['투자단계'].map(investment_stage_order)\n",
    "\n",
    "    # 5. 직원 수: 평균으로 대체\n",
    "    mean_emp = df['직원 수'].mean()\n",
    "    df['직원 수'].fillna(mean_emp, inplace=True)\n",
    "\n",
    "    # 6. 인수여부, 상장여부: 원핫 인코딩\n",
    "    df = pd.get_dummies(df, columns=['인수여부', '상장여부'])\n",
    "\n",
    "    # 7. 고객수: 중앙값으로 대체\n",
    "    median_cust = df['고객수(백만명)'].median()\n",
    "    df['고객수(백만명)'].fillna(median_cust, inplace=True)\n",
    "\n",
    "    # 8. 총 투자금, 연매출: 정수형 변환\n",
    "    df['총 투자금(억원)'] = df['총 투자금(억원)'].astype(int)\n",
    "    df['연매출(억원)'] = df['연매출(억원)'].astype(int)\n",
    "\n",
    "    # 9. SNS 팔로워 수: 최빈값으로 대체\n",
    "    mode_sns = df['SNS 팔로워 수(백만명)'].mode()[0]\n",
    "    df['SNS 팔로워 수(백만명)'].fillna(mode_sns, inplace=True)\n",
    "\n",
    "    # 10. 기업가치: 결측치 보완 + 수치 매핑\n",
    "    df['기업가치(백억원)'].fillna('4500~6000', inplace=True)\n",
    "    value_map = {\n",
    "        '1500~2500': 2000,\n",
    "        '2500~3500': 3000,\n",
    "        '3500~4500': 4000,\n",
    "        '4500~6000': 5250,\n",
    "        '6000이상': 6500\n",
    "    }\n",
    "    df['기업가치(백억원)'] = df['기업가치(백억원)'].map(value_map)\n",
    "    df['기업가치(백억원)'].fillna(5250, inplace=True)  # 매핑 실패 보완\n",
    "\n",
    "    return df\n",
    "\n",
    "def add_features(df):\n",
    "    # 1. 기업나이\n",
    "    df['기업나이'] = 2025 - df['설립연도']\n",
    "\n",
    "    # 2. 직원당 매출\n",
    "    df['직원당매출'] = df['연매출(억원)'] / df['직원 수'].replace(0, np.nan)\n",
    "\n",
    "    # 3. 고객당 매출\n",
    "    df['고객당매출'] = df['연매출(억원)'] / df['고객수(백만명)'].replace(0, np.nan)\n",
    "\n",
    "    # 4. 투자수익비\n",
    "    df['투자수익비'] = df['연매출(억원)'] / df['총 투자금(억원)'].replace(0, np.nan)\n",
    "\n",
    "    # 5. SNS 팔로워 등급\n",
    "    df['SNS팔로워등급'] = pd.cut(df['SNS 팔로워 수(백만명)'],\n",
    "                             bins=[-1, 1, 3, 10],\n",
    "                             labels=['낮음', '중간', '높음'])\n",
    "\n",
    "    # 6. 가치대비매출 (기업가치 결측치 처리 포함)\n",
    "    df['가치대비매출'] = df['기업가치(백억원)'] / df['연매출(억원)'].replace(0, np.nan)\n",
    "\n",
    "    # 7. 총투자금당직원수\n",
    "    df['총투자금당직원수'] = df['직원 수'] / df['총 투자금(억원)'].replace(0, np.nan)\n",
    "\n",
    "    return df"
   ]
  },
  {
   "cell_type": "markdown",
   "id": "043c8dc9-7ddd-4043-8965-9c9eab720058",
   "metadata": {},
   "source": [
    "# 파생변수 생성"
   ]
  },
  {
   "cell_type": "code",
   "execution_count": null,
   "id": "527fc4e9-69c7-491e-bc98-05aac3ce98dc",
   "metadata": {},
   "outputs": [],
   "source": []
  }
 ],
 "metadata": {
  "kernelspec": {
   "display_name": "Python 3 (ipykernel)",
   "language": "python",
   "name": "python3"
  },
  "language_info": {
   "codemirror_mode": {
    "name": "ipython",
    "version": 3
   },
   "file_extension": ".py",
   "mimetype": "text/x-python",
   "name": "python",
   "nbconvert_exporter": "python",
   "pygments_lexer": "ipython3",
   "version": "3.12.7"
  }
 },
 "nbformat": 4,
 "nbformat_minor": 5
}
